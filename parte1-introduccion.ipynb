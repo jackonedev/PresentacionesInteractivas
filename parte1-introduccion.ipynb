{
 "cells": [
  {
   "attachments": {},
   "cell_type": "raw",
   "metadata": {},
   "source": [
    "---\n",
    "title: 01 - LA MAQUINA FINANCIERA\n",
    "author: jackonedev\n",
    "description: Parte 1 - Introducción al proyecto\n",
    "output: slides\n",
    "---"
   ]
  },
  {
   "attachments": {},
   "cell_type": "markdown",
   "metadata": {
    "slideshow": {
     "slide_type": "slide"
    }
   },
   "source": [
    "# ROAD TO GLORY"
   ]
  },
  {
   "attachments": {},
   "cell_type": "markdown",
   "metadata": {
    "slideshow": {
     "slide_type": "slide"
    }
   },
   "source": [
    "# Existe una razón para pensar en grande"
   ]
  },
  {
   "attachments": {},
   "cell_type": "markdown",
   "metadata": {
    "slideshow": {
     "slide_type": "slide"
    }
   },
   "source": [
    "<i>\n",
    "    <center>\n",
    "    Quiero agradecer a mi mentor que me enseñó como es que los sueños nacen del corazón. <br />\n",
    "    Por haber hecho tanto por mí, como por otros.\n",
    "    <br />\n",
    "    Que nos ha enseñado la gratitud que genera valorar las cosas correctas en la vida.\n",
    "    <br />\n",
    "    <br />\n",
    "    Gracias Durs. Tante grazie!\n",
    "    </center>\n",
    "</i>\n",
    "    "
   ]
  },
  {
   "attachments": {},
   "cell_type": "markdown",
   "metadata": {
    "slideshow": {
     "slide_type": "slide"
    }
   },
   "source": [
    "<h3>TEMAS</h3>\n",
    "\n",
    "<h5>1) Introducción al proyecto</h5>\n",
    "<ul>\n",
    "    <li><b>La Máquina Financiera</b></li>\n",
    "    <li><b>Técnologías a implementar</b></li>\n",
    "    <li><b>Presentación personal</b></li>\n",
    "    <li><b>Contextualizando los aspectos técnicos</b></li>\n",
    "</ul>"
   ]
  },
  {
   "attachments": {},
   "cell_type": "markdown",
   "metadata": {
    "slideshow": {
     "slide_type": "slide"
    }
   },
   "source": [
    "### La Máquina Financiera\n",
    "\n",
    "El proyecto a continuación se llama <b>La Máquina Financiera</b>, y es un sistema de gestión de finanzas personales. El prototipo final presentado será:<br />\n",
    "\n",
    "<br />\n",
    "<center>\n",
    "    <b>\n",
    "        <i>\n",
    "        una aplicación de escritorio que corra dentro de cualquier navegador web, y podrá correr en todos los sistemas operativos de computadoras comerciales...\n",
    "        </i>\n",
    "    </b>\n",
    "</center>\n",
    "<br />\n",
    "El diseño y desarrollo de la presentación se ha basado en material de estudio de la academia <b>ZartexPRO</b>, y la gestión del proyecto es llevada a cabo por un alumno de la academia, y el desarrollo del proyecto está aún en período latente."
   ]
  },
  {
   "attachments": {},
   "cell_type": "markdown",
   "metadata": {
    "slideshow": {
     "slide_type": "slide"
    }
   },
   "source": [
    "<center>\n",
    "<i>Hay un módulo en la última semana del programa de formación llamado <b>El Mapa de Riqueza Personal</b>, y fue el módulo más vislumbrante y revelador del curso. <br /><br />Por eso este proyecto está basado en <b>La Máquina Financiera</b>, un módulo de la primera semana del curso, con la intención afianzar conceptos básicos.</i>\n",
    "</center>"
   ]
  },
  {
   "attachments": {},
   "cell_type": "markdown",
   "metadata": {
    "slideshow": {
     "slide_type": "slide"
    }
   },
   "source": [
    "### Tecnologías ha implementar\n",
    "\n",
    "Las tecnologías que se van a utilizar son:\n",
    "<center>\n",
    "    - Python<br />\n",
    "    - Django y Django Rest Framework<br />\n",
    "    - Jupyter Notebook y mljar-Mercury<br />\n",
    "    - HTML/CSS<br />\n",
    "    - Bootstrap<br />\n",
    "    - Pyscript y Pyodide<br />\n",
    "    - Docker<br />\n",
    "</center>\n",
    "\n",
    "La base de datos será Postgress, o SQLite"
   ]
  },
  {
   "attachments": {},
   "cell_type": "markdown",
   "metadata": {
    "slideshow": {
     "slide_type": "slide"
    }
   },
   "source": [
    "### Presentación personal\n",
    "\n",
    "Mi nombre es Agustin Federico Stigliano, tengo 32 años, y soy programador. Vivo en Córdoba Capital, Argentina. En el año 2014 arranqué la carrera de Ingeniería Electromecánica y fue cuando aprendí Python. A mediados del 2020 decidí pausar mis estudios. Y en abril del 2021 decidí darle un nuevo rumbo a mi vida, comencé a abrazar los valores de la espiritualidad, aprendí sobre finanzas y retomé mis estudios en el lenguaje de programación Python.\n",
    "\n",
    "A la fecha llevo 2 años aproximadamente, dedicandole la mayor parte de mi tiempo a capacitarme, certificarme, y desarrollar proyectos informáticos, el resto del tiempo lo uso para sostener hábitos de vida saludables y productivos, ya que me aporta mucha felicidad. Me he certificado como Data Scientist en un bootcamp de Digital House, por lo que mi interés se centra en los modelos de Machine Learning. Desde que finalicé el curso me he centrado en el desarrollo y despliegue de aplicaciones web. También, gracias al ejemplo de mi mentor, me he apoyado en el hábito de la lectura, habiendo leído los siguientes libros: \"Clean Code in Python\" (escrito en inglés) y \"Python para Finanzas Quant\" (8 tomos) y libros acerca de otros temas.\n",
    "\n",
    "Me encanta compartir conocimiento porque cuando explico, aprendo, y eso me hace interiorizar aún más los conocimientos. También disfruto de desarrollar presentaciones, y hacer las exposiciones. Soy una persona extrovertida que valora el trabajo en equipo, y que he gestionado mis propios emprendimientos desde pequeño. Mi desafío actualmente es encontrar un poco de estabilidad económica y sueño con pertenecer a una empresa donde pueda crecer profesionalmente."
   ]
  },
  {
   "attachments": {},
   "cell_type": "markdown",
   "metadata": {
    "slideshow": {
     "slide_type": "slide"
    }
   },
   "source": [
    "# Una historia real"
   ]
  },
  {
   "attachments": {},
   "cell_type": "markdown",
   "metadata": {
    "slideshow": {
     "slide_type": "slide"
    }
   },
   "source": [
    "<img src=\"https://github.com/AgustinSt1990/others/blob/main/historia%201/a1.png?raw=true\"/>"
   ]
  },
  {
   "attachments": {},
   "cell_type": "markdown",
   "metadata": {
    "slideshow": {
     "slide_type": "slide"
    }
   },
   "source": [
    "<img src=\"https://github.com/AgustinSt1990/others/blob/main/historia%201/a2.png?raw=true\"/>"
   ]
  },
  {
   "cell_type": "markdown",
   "metadata": {
    "slideshow": {
     "slide_type": "slide"
    }
   },
   "source": [
    "<img src=\"https://github.com/AgustinSt1990/others/blob/main/historia%201/a3.png?raw=true\"/>"
   ]
  },
  {
   "attachments": {},
   "cell_type": "markdown",
   "metadata": {
    "slideshow": {
     "slide_type": "slide"
    }
   },
   "source": [
    "<img src=\"https://github.com/AgustinSt1990/others/blob/main/historia%201/a4.png?raw=true\"/>"
   ]
  },
  {
   "cell_type": "markdown",
   "metadata": {
    "slideshow": {
     "slide_type": "slide"
    }
   },
   "source": [
    "<img src=\"https://github.com/AgustinSt1990/others/blob/main/historia%201/a5_1.png?raw=true\"/>"
   ]
  },
  {
   "cell_type": "markdown",
   "metadata": {
    "slideshow": {
     "slide_type": "slide"
    }
   },
   "source": [
    "<img src=\"https://github.com/AgustinSt1990/others/blob/main/historia%201/a5_2.png?raw=true\"/>"
   ]
  },
  {
   "cell_type": "markdown",
   "metadata": {
    "slideshow": {
     "slide_type": "slide"
    }
   },
   "source": [
    "<img src=\"https://github.com/AgustinSt1990/others/blob/main/historia%201/a5_3.png?raw=true\"/>"
   ]
  },
  {
   "cell_type": "markdown",
   "metadata": {
    "slideshow": {
     "slide_type": "slide"
    }
   },
   "source": [
    "<img src=\"https://github.com/AgustinSt1990/others/blob/main/historia%201/a5_4.png?raw=true\"/>"
   ]
  },
  {
   "cell_type": "markdown",
   "metadata": {
    "slideshow": {
     "slide_type": "slide"
    }
   },
   "source": [
    "<img src=\"https://github.com/AgustinSt1990/others/blob/main/historia%201/a5_5.png?raw=true\"/>"
   ]
  },
  {
   "cell_type": "markdown",
   "metadata": {
    "slideshow": {
     "slide_type": "slide"
    }
   },
   "source": [
    "<img src=\"https://github.com/AgustinSt1990/others/blob/main/historia%201/a5_6.png?raw=true\"/>"
   ]
  },
  {
   "attachments": {},
   "cell_type": "markdown",
   "metadata": {
    "slideshow": {
     "slide_type": "slide"
    }
   },
   "source": [
    "### La Máquina Financiera\n",
    "\n",
    "<center>\n",
    "    <b>\n",
    "        <i>\n",
    "        una aplicación de escritorio que corra dentro de cualquier navegador web, y podrá correr en todos los sistemas operativos de computadoras comerciales\n",
    "        </i>\n",
    "    </b>\n",
    "    <br />\n",
    "    <br />\n",
    "    <b>\n",
    "        <i>\n",
    "        ... cuya primera versión será una aplicación web que corra en múltiples dispositivos.\n",
    "        </i>\n",
    "    </b>\n",
    "</center>\n",
    "\n",
    "<br />\n",
    "<br />\n",
    "\n",
    "<i>\n",
    "    <p>Continúa en parte 2: Desarrollo del proyecto</p>\n",
    "</i>"
   ]
  }
 ],
 "metadata": {
  "kernelspec": {
   "display_name": "venv",
   "language": "python",
   "name": "python3"
  },
  "language_info": {
   "codemirror_mode": {
    "name": "ipython",
    "version": 3
   },
   "file_extension": ".py",
   "mimetype": "text/x-python",
   "name": "python",
   "nbconvert_exporter": "python",
   "pygments_lexer": "ipython3",
   "version": "3.10.2 (tags/v3.10.2:a58ebcc, Jan 17 2022, 14:12:15) [MSC v.1929 64 bit (AMD64)]"
  },
  "orig_nbformat": 4,
  "vscode": {
   "interpreter": {
    "hash": "e3aa0a019792015162aa1c99794ca0df469e0e38f26fbe7c861b57d8762c34af"
   }
  }
 },
 "nbformat": 4,
 "nbformat_minor": 2
}
