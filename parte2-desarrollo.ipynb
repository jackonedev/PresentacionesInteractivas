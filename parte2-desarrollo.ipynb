{
 "cells": [
  {
   "cell_type": "raw",
   "metadata": {},
   "source": [
    "---\n",
    "title: 02 - LA MAQUINA FINANCIERA\n",
    "author: jackonedev\n",
    "description: Parte 2 - Desarrollo del proyecto\n",
    "output: slides\n",
    "---"
   ]
  },
  {
   "attachments": {},
   "cell_type": "markdown",
   "metadata": {
    "slideshow": {
     "slide_type": "slide"
    }
   },
   "source": [
    "# Desarrollo del proyecto"
   ]
  },
  {
   "attachments": {},
   "cell_type": "markdown",
   "metadata": {
    "slideshow": {
     "slide_type": "slide"
    }
   },
   "source": [
    "# Liderando una causa noble"
   ]
  },
  {
   "attachments": {},
   "cell_type": "markdown",
   "metadata": {
    "slideshow": {
     "slide_type": "slide"
    }
   },
   "source": [
    "# TODO\n",
    "\n",
    "<h3>2) Desarrollo del proyecto</h3>\n",
    "<ol>\n",
    "    <li><b>Componentes de la app</b></li>\n",
    "    <li><b>Las cuentas</b>\n",
    "        <ul>\n",
    "            <li>Tipos de cuentas</li>\n",
    "            <li>Estado de las cuentas</li>\n",
    "            <li>Combinaciones de estados de cuenta y excepciones</li>\n",
    "        </ul>\n",
    "    </li>\n",
    "    <li><b>Los movimientos</b></li>\n",
    "    <p>Visualizaciones de ingresos y egresos, indicadores</p>\n",
    "    <li><b>La distribución de capital</b>\n",
    "        <ul>\n",
    "            <li>Las cuentas de distribución de capital</li>\n",
    "            <li>Las cuentas del inversor</li>\n",
    "            <li>Lógica y visualización</li>\n",
    "            <li>Ejemplo AHORRO</li>\n",
    "        </ul>\n",
    "    </li>\n",
    "    <li><b>La interface</b></li>\n",
    "        <ul>\n",
    "            <li>Diagrama de relaciones de tablas</li>\n",
    "            <li>Tabla propia, tabla general y tabla resumen</li>\n",
    "            <li>Ejemplo CUENTAS</li>\n",
    "        </ul>\n",
    "</ol>"
   ]
  },
  {
   "attachments": {},
   "cell_type": "markdown",
   "metadata": {
    "slideshow": {
     "slide_type": "slide"
    }
   },
   "source": [
    "<center>\n",
    "    \n",
    "### Componentes de la APP\n",
    "</center>\n",
    "\n",
    "<b>La Máquina Financiera</b> es un sistema de gestión de finanzas personales. El recurso que demanda dicho sistema es capital, y dichos recursos serán articulados a través de las componentes de la APP.\n",
    "\n",
    "<b>La APP</b>, consta de 4 componentes:\n",
    "\n",
    "- <b>Las cuentas</b><br />\n",
    "- <b>Los movimientos</b><br />\n",
    "- <b>La distribución de capital</b><br />\n",
    "\n",
    "Y <b>la interface</b> es el cuarto componente, es un componente frontend de la app, puede haber 1 interface, más de una, o ninguna que no afectaría el funcionamiento de los 3 componentes backend.<br />"
   ]
  },
  {
   "attachments": {},
   "cell_type": "markdown",
   "metadata": {
    "slideshow": {
     "slide_type": "slide"
    }
   },
   "source": [
    "<center>\n",
    "\n",
    "### Las Cuentas\n",
    "    \n",
    "</center>\n",
    "\n",
    "#### Tipos de cuentas\n",
    "\n",
    "Cualquier registro dentro de nuestro estado financiero pertenece a uno de los tres tipos de cuentas existentes, éstas son:\n",
    "\n",
    "- <b>Cuenta bancaria</b><br />\n",
    "- <b>Cuenta externa</b><br />\n",
    "- <b>Cuenta metálico</b><br />\n",
    "- <b>Cuenta mercadería</b><br />"
   ]
  },
  {
   "attachments": {},
   "cell_type": "markdown",
   "metadata": {
    "slideshow": {
     "slide_type": "subslide"
    }
   },
   "source": [
    "<b><u>Recursos asignados por tipo de cuenta</u>:</b>\n",
    "\n",
    "\n",
    "Las <b>cuentas bancarias</b>: opera con 1 divisa\n",
    "\n",
    "Las <b>cuentas externas</b>: opera con múltiples divisas\n",
    "\n",
    "Las <b>cuentas metálico</b>: opera con categorías como cash, o activos semi-liquidos, o commodities.\n",
    "\n",
    "Las <b>cuentas mercadería</b>: opera con categorías como productos de acopio personal, insumos para la producción o productos de venta o reventa.\n",
    "\n",
    "<br />\n",
    "\n",
    "<b><u>Formatos físicos de los fondos</u>:</b>\n",
    "\n",
    "Las <b>cuentas bancarias</b>: son estrictamente cuentas bancarias (interfaces).\n",
    "\n",
    "Las <b>cuentas externas</b>: Pueden ser cuentas bancarias virtuales, billeteras cripto, broker, exchange, DEX (interfaces).\n",
    "\n",
    "Tanto las <b>cuentas metálico</b> como las <b>cuentas mercadería</b> representan la categoría fijada en su definición (físico)."
   ]
  },
  {
   "attachments": {},
   "cell_type": "markdown",
   "metadata": {
    "slideshow": {
     "slide_type": "slide"
    }
   },
   "source": [
    "<center>\n",
    "\n",
    "### Los Movimientos\n",
    "</center>\n",
    "\n",
    "Los movimientos son funciones de la Máquina Financiera (sistema), existen 2 tipos de movimientos:\n",
    "\n",
    "<ol>\n",
    "    <li><b>Las transferencias </b></li>\n",
    "    <li><b>Las cotizaciones</b></li>\n",
    "</ol>\n",
    "\n",
    "<br />\n",
    "\n",
    "La idea en términos generales es que las <b>transferencias</b> se utilizan como mecanismos para que las <b>cuentas</b> interactúen entre sí, y las <b>cotizaciones</b> para <b>solicitar información</b> del mercado y <b>actualizar datos</b> de las cuentas."
   ]
  },
  {
   "attachments": {},
   "cell_type": "markdown",
   "metadata": {
    "slideshow": {
     "slide_type": "slide"
    }
   },
   "source": [
    "#### Tipos de Transferencias\n",
    "\n",
    "\n",
    "<ol>\n",
    "    <li><b>Ingreso</b></li>\n",
    "    <li><b>Egreso</b></li>\n",
    "    <li><b>Transferencia interna</b></li>\n",
    "    <li><b>Swap</b></li>\n",
    "    <li><b>Distributiva</b></li>\n",
    "</ol>"
   ]
  },
  {
   "attachments": {},
   "cell_type": "markdown",
   "metadata": {
    "slideshow": {
     "slide_type": "slide"
    }
   },
   "source": [
    "<b><u>Ingresos y Egresos</u></b>\n",
    "\n",
    "\n",
    "Los <b>ingresos</b> y los <b>egresos</b> son el mecanismo por el cual aumenta o disminuye la cantidad de dinero dentro del sistema, respectivamente.<br />\n",
    "\n",
    "Todos los <b>tipos de cuenta</b> aceptan transferencia de fondos en estos dos <b>estados</b>.\n",
    "\n",
    "Los egresos, a su vez, admiten un <b>sub-estado</b> llamado <b>gastos personales</b>, éste cumple la función de egresar fondos cuyo destino no está aún previsto para declararlo a posterior. Dicho de otro modo es separar recursos, por ejemplo para gastos corrientes.\n",
    "\n",
    "Cabe aclarar que ambas transferencias se explican en conjunto para simplificar dada la simetría que represetan para el funcionamiento del sistema, pero el tratamiento de cada uno de estos tipos de transferencias se hace de forma independiente.\n"
   ]
  },
  {
   "attachments": {},
   "cell_type": "markdown",
   "metadata": {
    "slideshow": {
     "slide_type": "slide"
    }
   },
   "source": [
    "<b><u>Transferencias internas</u></b>\n",
    "\n",
    "Es cuando recursos del sistema pasan de una cuenta a otra.\n",
    "\n",
    "Cuando pasamos dinero de un formato a otro (por ejemplo retirar dinero por ventanilla de un cajero), estamos cambiando de cuentas dichos fondos (de la cuenta bancaria a la cuenta metálico), por lo tanto es una transferencia interna. \n",
    "\n",
    "A su vez, muchas de estas transacciones en la vida real tienen asociados <b>comisiones</b> que deben quedar asentadas.\n",
    "\n",
    "<br />\n",
    "<b><u>Swap</u></b>\n",
    "\n",
    "A diferencia del anterior, esta transferencia tiene lugar cuando ocurre un <b>cambio en el tipo de moneda</b>. Eso quiere decir que puede cambiar la cuenta o no, pero si el tipo de divisa dentro del sistema. En el ejemplo anterior, si vamos con los euros retirados por ventanilla a comprar dólares, pasaríamos de nuestra cuenta \"metálico[EUR]\" a cuenta \"metálico[USD]\". Otro ejemplo es si poseemos una cuenta externa llamada \"Binance Spot\" y comprados BTC con nuestros USDT, cambia el tipo de moneda, pero no la cuenta.\n",
    "\n",
    "Este tipo de transacción siempre tiene añadido una <b>cotización</b> que debe quedar asentada, de forma manual o automatizada.\n",
    "\n",
    "\n"
   ]
  },
  {
   "attachments": {},
   "cell_type": "markdown",
   "metadata": {
    "slideshow": {
     "slide_type": "slide"
    }
   },
   "source": [
    "<img src=\"https://github.com/AgustinSt1990/others/blob/main/MaquinaF_aux/COMPONENTES_1.png?raw=true\" />"
   ]
  },
  {
   "attachments": {},
   "cell_type": "markdown",
   "metadata": {
    "slideshow": {
     "slide_type": "slide"
    }
   },
   "source": [
    "<center>\n",
    "    \n",
    "### La Distribución de Capital\n",
    "</center>\n",
    "\n",
    "<b>Los recursos del sistema pueden ser variados</b>, aquellos que no son recursos financieros pueden ser activos semi-líquidos dentro de una cuenta metálico como un vehículo por ejemplo, como también 6kg de café importado en grano puede ser considerado un insumo dentro de una cuenta mercadería. Esta clase de recurso no admite ser distribuido, y solo posee estados de ingreso y egreso dentro del sistema.\n",
    "\n",
    "<b>Los recursos financieros</b> poseen un mecanismo adicional que admite un nuevo tipo de transferencia, la <i>transferencia distributiva</i>.\n",
    "\n",
    "Entonces, a través de élla podemos asignar nuevos estados de los fondos, y crear nuevas cuentas para que esos fondos <b>cumplan un rol importante dentro del sistema</b>.\n"
   ]
  },
  {
   "attachments": {},
   "cell_type": "markdown",
   "metadata": {
    "slideshow": {
     "slide_type": "slide"
    }
   },
   "source": [
    "#### Estado de los fondos\n",
    "\n",
    "Todos los fondos ingresan al sistema en estado de <b>INGRESO</b>, y salen del sistema en estado <b>EGRESO</b>.\n",
    "\n",
    "A través de una <b>transferencia distributiva</b> podemos asignar estados como:\n",
    "\n",
    "<ul>\n",
    "    <li><b>AHORRO</b></li>\n",
    "    <li><b>INVERSION</b></li>\n",
    "    <li><b>PRESUPUESTO</b></li>\n",
    "    <li><b>EDUCACION</b></li>\n",
    "    <li><b>INDEPENDENCIA NIVEL 3</b></li>\n",
    "    <li><b>TRADING</b></li>\n",
    "<ul>\n"
   ]
  },
  {
   "attachments": {},
   "cell_type": "markdown",
   "metadata": {
    "slideshow": {
     "slide_type": "slide"
    }
   },
   "source": [
    "<img src=\"https://github.com/AgustinSt1990/others/blob/main/MaquinaF_aux/COMPONENTES_2.png?raw=true\" />"
   ]
  },
  {
   "attachments": {},
   "cell_type": "markdown",
   "metadata": {
    "slideshow": {
     "slide_type": "slide"
    }
   },
   "source": [
    "<center>\n",
    "\n",
    "### Las Cuentas de Distribución de Capital</center>\n",
    "\n",
    "Cabe aclarar que una cuenta puede tener sus fondos particionados en distintos estados y esa cuenta poseerá dichos estados simultáneamente.\n",
    "\n",
    "Pero esta aplicación promueve la <b>disciplina financiera</b>, por lo que se recomienda tener cuentas independientes para el manejo de fondos para determinados fines.\n",
    "\n",
    "Se pide consciencia que los fondos poseen un estado porque cumplen una determinada función en la vida real, y el usuario debe ser responsable de las decisiones que toma."
   ]
  },
  {
   "attachments": {},
   "cell_type": "markdown",
   "metadata": {
    "slideshow": {
     "slide_type": "subslide"
    }
   },
   "source": [
    "#### Las cuentas con AHORRO\n",
    "\n",
    "Las <b>cuentas ahorro</b> son todas aquellas que posean fondos en estado AHORRO, puede haber de los 3 tipos de cuentas: bancarias, externas y metálico y en divisas variadas.\n",
    "\n",
    "La <b>cuenta presupuesto</b> es una cuenta ahorro. El usuario puede definir un presupuesto en función del pronóstico de ingresos anuales esperados, con el propósito de acceder a <b>financiación para deuda activa o imprevistos</b>, para eso, el usuario se compromete a depositar una cuota mensual, en una cuenta aparte, cuya finalidad es afrontar dicha deuda al momento de tomarse.\n",
    "\n",
    "La <b>cuenta de educación</b> es una cuenta ahorro, cuya finalidad es separar dinero, que será consumido en <b>capacitaciones que tengan impacto</b> directo en el nivel de ingresos del usuario."
   ]
  },
  {
   "attachments": {},
   "cell_type": "markdown",
   "metadata": {
    "slideshow": {
     "slide_type": "subslide"
    }
   },
   "source": [
    "#### Las cuentas con INVERSION\n",
    "\n",
    "La segunda familia de estados de distribución de capital.\n",
    "\n",
    "La <b>cuenta bancaria de inversión</b> funciona para articular las cuentas del inversor, solo una cuenta bancaria admite fondos en estado INVERSION.<br />\n",
    "\n",
    "<br />\n",
    "Las cuentas que siguen pueden ser cuentas bancarias o externas, pero solo admiten fondos en estado INVERSION:\n",
    "\n",
    "<b>La cuenta de independencia financiera N3</b>, también llamada <b>\"cuenta de la inmortalidad\"</b>, es aquella en la que los fondos están destinados a ser invertidos en fondos indexados, fondos de inversión, ETFs.\n",
    "\n",
    "La <b>cuenta de trading</b> son cuentas que se utilizan para <b>especular de forma activa o semi-pasiva</b>, haciendo trading de forma personal, o depositando en cuentas de copy-trading.\n",
    "<br />"
   ]
  },
  {
   "attachments": {},
   "cell_type": "markdown",
   "metadata": {
    "slideshow": {
     "slide_type": "slide"
    }
   },
   "source": [
    "<center>\n",
    "\n",
    "### La Interface</center>\n",
    "\n",
    "Dos prioridades: \n",
    "\n",
    "- <b>simpleza</b> e intuitivo para un usuario sin registros financieros previos.\n",
    "\n",
    "- <b>versátil a la migración</b>, para usuarios que quieran transladar data de un sistema existente a nuestra app y viceversa.\n",
    "\n",
    "<br />"
   ]
  },
  {
   "attachments": {},
   "cell_type": "markdown",
   "metadata": {
    "slideshow": {
     "slide_type": "subslide"
    }
   },
   "source": [
    "#### Lógica y visualización\n",
    "\n",
    "La parte <b>lógica</b> va a tener el objetivo de evaluar el estado de las cuentas y  medir las <b>fluctuación</b> entre los movimientos de éllas, intentando poner en evidencia el pronóstico de <b>crecimiento</b> de las cuentas de distribución de capital.\n",
    "\n",
    "Esta área también se ocupa de la parte de <b>visualización</b>, y de las <b>conexiones a servicios web</b> de terceros para integrarlos dentro de la app. También va a contar con <b>módulos de conversión de unidades</b> en tiempo real para expresar las tablas en una sola divisa, a elección.<br />\n",
    "\n",
    "Poseerá <b>variables locales del sistema</b> que agreguen dimensiones a las cuentas, como \"ahorro pretendido mensual\", \"actualización peródica\", etc."
   ]
  },
  {
   "attachments": {},
   "cell_type": "markdown",
   "metadata": {
    "slideshow": {
     "slide_type": "slide"
    }
   },
   "source": [
    "#### Ejemplo CONVERSION DE UNIDADES\n",
    "\n",
    "Suponiendo una <b>tabla de ahorro</b> como la que se muestra a continuación, observemos que tiene <b>múltiples divisas en múltples cuentas</b>:\n",
    "\n",
    "<center><img src=\"https://github.com/AgustinSt1990/others/blob/main/MaquinaF_aux/AHORROS_1.png?raw=true\" /></center>"
   ]
  },
  {
   "attachments": {},
   "cell_type": "markdown",
   "metadata": {
    "slideshow": {
     "slide_type": "slide"
    }
   },
   "source": [
    "<div class=\"row\">Las visualizaciones serán procesadas previo a ser mostradas, para que estén expresadas en una <b>única divisa</b>, en este caso USD:</div>\n",
    "\n",
    "\n",
    "<div class=\"row\">\n",
    "    <iframe width=\"360\" height=\"250\" frameborder=\"0\" scrolling=\"no\" src=\"//plotly.com/~jackonedev/34.embed\"></iframe>\n",
    "    <iframe width=\"360\" height=\"250\" frameborder=\"0\" scrolling=\"no\" src=\"//plotly.com/~jackonedev/32.embed\"></iframe>\n",
    "</div>"
   ]
  },
  {
   "attachments": {},
   "cell_type": "markdown",
   "metadata": {
    "slideshow": {
     "slide_type": "slide"
    }
   },
   "source": [
    "Las <b>leyendas</b> tendrán funcionalidades dinámicas:\n",
    "<center><iframe width=\"650\" height=\"400\" frameborder=\"0\" scrolling=\"no\" src=\"//plotly.com/~jackonedev/28.embed\"></iframe></center>"
   ]
  },
  {
   "attachments": {},
   "cell_type": "markdown",
   "metadata": {
    "slideshow": {
     "slide_type": "slide"
    }
   },
   "source": [
    "#### Indicadores para Ingresos y Egresos\n",
    "\n",
    "##### Series de tiempo\n",
    "<iframe width=\"765\" height=\"400\" frameborder=\"0\" scrolling=\"no\" src=\"//plotly.com/~jackonedev/13.embed\"></iframe>"
   ]
  },
  {
   "attachments": {},
   "cell_type": "markdown",
   "metadata": {
    "slideshow": {
     "slide_type": "slide"
    }
   },
   "source": [
    "##### Series de tiempo\n",
    "<iframe width=\"765\" height=\"400\" frameborder=\"0\" scrolling=\"no\" src=\"//plotly.com/~jackonedev/19.embed\"></iframe>"
   ]
  },
  {
   "attachments": {},
   "cell_type": "markdown",
   "metadata": {
    "slideshow": {
     "slide_type": "slide"
    }
   },
   "source": [
    "##### Gráfico comparativo de los ingresos\n",
    "\n",
    "<iframe width=\"765\" height=\"400\" frameborder=\"0\" scrolling=\"no\" src=\"//plotly.com/~jackonedev/11.embed\"></iframe>"
   ]
  },
  {
   "attachments": {},
   "cell_type": "markdown",
   "metadata": {
    "slideshow": {
     "slide_type": "slide"
    }
   },
   "source": [
    "##### \"Porcentaje consumo-ingreso\" y \"Consumo mes-a-mes\"\n",
    "\n",
    "<center>\n",
    "    <iframe width=\"500\" height=\"180\" frameborder=\"0\" scrolling=\"no\" src=\"//plotly.com/~jackonedev/24.embed\"></iframe>\n",
    "    <br />\n",
    "    <iframe width=\"500\" height=\"250\" frameborder=\"0\" scrolling=\"no\" src=\"//plotly.com/~jackonedev/21.embed\"></iframe>\n",
    "</center>"
   ]
  },
  {
   "attachments": {},
   "cell_type": "markdown",
   "metadata": {
    "slideshow": {
     "slide_type": "slide"
    }
   },
   "source": [
    "##### Categorización de los gastos personales\n",
    "\n",
    "<center><iframe width=\"765\" height=\"400\" frameborder=\"0\" scrolling=\"no\" src=\"//plotly.com/~jackonedev/17.embed\"></iframe></center>"
   ]
  },
  {
   "attachments": {},
   "cell_type": "markdown",
   "metadata": {
    "slideshow": {
     "slide_type": "slide"
    }
   },
   "source": [
    "#### Indicadores de Distribución de Capital\n",
    "\n",
    "##### Series de tiempo\n",
    "\n",
    "<center>\n",
    "    <iframe width=\"765\" height=\"400\" frameborder=\"0\" scrolling=\"no\" src=\"//plotly.com/~jackonedev/30.embed\"></iframe>\n",
    "</center>"
   ]
  },
  {
   "attachments": {},
   "cell_type": "markdown",
   "metadata": {
    "slideshow": {
     "slide_type": "slide"
    }
   },
   "source": [
    "##### Series de tiempo\n",
    "\n",
    "<center><iframe width=\"765\" height=\"400\" frameborder=\"0\" scrolling=\"no\" src=\"//plotly.com/~jackonedev/15.embed\"></iframe></center>"
   ]
  }
 ],
 "metadata": {
  "kernelspec": {
   "display_name": "venv",
   "language": "python",
   "name": "python3"
  },
  "language_info": {
   "name": "python",
   "version": "3.10.2 (tags/v3.10.2:a58ebcc, Jan 17 2022, 14:12:15) [MSC v.1929 64 bit (AMD64)]"
  },
  "orig_nbformat": 4,
  "vscode": {
   "interpreter": {
    "hash": "e3aa0a019792015162aa1c99794ca0df469e0e38f26fbe7c861b57d8762c34af"
   }
  }
 },
 "nbformat": 4,
 "nbformat_minor": 2
}
