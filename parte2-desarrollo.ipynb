{
 "cells": [
  {
   "cell_type": "raw",
   "metadata": {},
   "source": [
    "---\n",
    "title: 02 - LA MAQUINA FINANCIERA\n",
    "author: jackonedev\n",
    "description: Parte 2 - Desarrollo del proyecto\n",
    "output: slides\n",
    "---"
   ]
  },
  {
   "attachments": {},
   "cell_type": "markdown",
   "metadata": {
    "slideshow": {
     "slide_type": "slide"
    }
   },
   "source": [
    "# Desarrollo del proyecto"
   ]
  },
  {
   "attachments": {},
   "cell_type": "markdown",
   "metadata": {
    "slideshow": {
     "slide_type": "slide"
    }
   },
   "source": [
    "# Liderando una causa noble"
   ]
  },
  {
   "attachments": {},
   "cell_type": "markdown",
   "metadata": {
    "slideshow": {
     "slide_type": "slide"
    }
   },
   "source": [
    "<h3>2) Desarrollo del proyecto</h3>\n",
    "<ol>\n",
    "    <li><b>Componentes de la app</b></li>\n",
    "    <li><b>Las cuentas</b>\n",
    "        <ul>\n",
    "            <li>Tipos de cuentas</li>\n",
    "            <li>Estado de las cuentas</li>\n",
    "            <li>Combinaciones de estados de cuenta y excepciones</li>\n",
    "        </ul>\n",
    "    </li>\n",
    "    <li><b>Los movimientos</b></li>\n",
    "    <li><b>La distribución de capital</b>\n",
    "        <ul>\n",
    "            <li>Las cuentas de distribución de capital</li>\n",
    "            <li>Las cuentas del inversor</li>\n",
    "            <li>Lógica y visualización</li>\n",
    "            <li>Ejemplo AHORRO</li>\n",
    "        </ul>\n",
    "    </li>\n",
    "    <li><b>La base de datos y las tablas</b></li>\n",
    "            <ul>\n",
    "                <li>Diagrama de relaciones de tablas</li>\n",
    "                <li>Tabla propia, tabla general y tabla resumen</li>\n",
    "                <li>Ejemplo CUENTAS</li>\n",
    "            </ul>\n",
    "    <li><b>La interface</b></li>\n",
    "</ol>"
   ]
  },
  {
   "attachments": {},
   "cell_type": "markdown",
   "metadata": {
    "slideshow": {
     "slide_type": "slide"
    }
   },
   "source": [
    "### Componentes de la app\n",
    "\n",
    "La \"Maquina Financiera\", consta de 3 componentes principales:\n",
    "\n",
    "- <b>Las cuentas</b><br />\n",
    "- <b>Los movimientos</b><br />\n",
    "- <b>La distribución de capital</b><br />\n",
    "\n",
    "La interface se considera como un cuarto componente aunque ésta puede ser reemplazada fácilmente<br />"
   ]
  },
  {
   "attachments": {},
   "cell_type": "markdown",
   "metadata": {
    "slideshow": {
     "slide_type": "slide"
    }
   },
   "source": [
    "### Tipos de cuentas\n",
    "\n",
    "Cualquier registro dentro de nuestro estado financiero pertenece a uno de los tres tipos de cuentas existentes, éstas son:\n",
    "\n",
    "- <b>Cuenta bancaria</b><br />\n",
    "- <b>Cuenta externa</b><br />\n",
    "- <b>Cuenta metálico</b><br />"
   ]
  },
  {
   "attachments": {},
   "cell_type": "markdown",
   "metadata": {
    "slideshow": {
     "slide_type": "subslide"
    }
   },
   "source": [
    "<b><u>Cantidad de divisas</u></b>:\n",
    "\n",
    "\n",
    "Las <b>cuentas bancarias</b>: opera con 1 divisa\n",
    "\n",
    "Las <b>cuentas externas</b>: opera con múltiples divisas\n",
    "\n",
    "Las <b>cuentas metálico</b>: opera con categorías como cash, o activos físicos cotizados, o commodities.\n",
    "\n",
    "<br />\n",
    "\n",
    "<b><u>Formatos reales</u></b>:\n",
    "\n",
    "Las <b>cuentas bancarias</b>: son estrictamente cuentas bancarias\n",
    "\n",
    "Las <b>cuentas externas</b>: Pueden ser cuentas bancarias virtuales, billeteras cripto, broker, exchange, DEX"
   ]
  },
  {
   "attachments": {},
   "cell_type": "markdown",
   "metadata": {
    "slideshow": {
     "slide_type": "subslide"
    }
   },
   "source": [
    "### Estado de las cuentas\n",
    "\n",
    "A su vez existen <b>estados</b> que se vinculan a cada una de las cuentas creadas, éstos son:\n",
    "\n",
    "- INGRESO\n",
    "- AHORRO\n",
    "- EDUCACION\n",
    "- PRESUPUESTO\n",
    "- INVERSION\n",
    "- N3\n",
    "- TRADING\n",
    "- EGRESO\n",
    "\n",
    "Los estados no son excluyentes entre sí, pero si existe ciertas incompatibilidades lógicas cuya finalidad es educar al usuario."
   ]
  },
  {
   "attachments": {},
   "cell_type": "markdown",
   "metadata": {
    "slideshow": {
     "slide_type": "subslide"
    }
   },
   "source": [
    "### Combinaciones de estados y excepciones\n",
    "\n",
    "A continuación enumeramos todos los estados posibles:\n",
    "\n",
    "\n",
    "- INGRESO\n",
    "- AHORRO\n",
    "- EGRESO\n",
    "- INGRESO, EGRESO\n",
    "- AHORRO, EGRESO\n",
    "- AHORRO, EDUCACION, EGRESO\n",
    "- AHORRO, PRESUPUESTO, EGRESO\n",
    "- INVERSION\n",
    "- INVERSION, N3\n",
    "- INVERSION, TRADING\n",
    "\n",
    "\n",
    "Es parte de la lógica que existan ciertas <b>excepciones</b>, de modo de estructurar el funcionamiento del software."
   ]
  },
  {
   "attachments": {},
   "cell_type": "markdown",
   "metadata": {
    "slideshow": {
     "slide_type": "slide"
    }
   },
   "source": [
    "### Los movimientos\n",
    "\n",
    "Los movimientos son mecanismo acoplados a las cuentas, conformando así un sistema. Existen 3 tipos de movimientos\n",
    "\n",
    "<ol>\n",
    "    <li><b>Los ingresos</b></li>\n",
    "    <li><b>Los egresos</b></li>\n",
    "    <li><b>Las transferencias </b></li>\n",
    "</ol>\n",
    "\n",
    "<br />\n",
    "<br />\n",
    "<b><u>Definiciones</u></b>\n",
    "\n",
    "Los <b>Ingresos</b> son el mecanismo por el cual aumenta la cantidad de dinero dentro del sistema.<br />\n",
    "Los <b>Egresos</b> son el mecanismo por el cual se consumen recursos del sistema.<br />\n",
    "Las <b>Transferencias</b> son el mecanismo por el cual los recursos de una cuenta pasan a otra cuenta.<br />\n",
    "\n",
    "<b><u>Acciones</u></b>\n",
    "\n",
    "Los <b>ingresos</b> y <b>egresos</b> modifican el estado de la cuenta que realiza dicho movimiento.<br />\n",
    "Las <b>transferencias</b> no alteran el estado de las cuentas."
   ]
  },
  {
   "attachments": {},
   "cell_type": "markdown",
   "metadata": {
    "slideshow": {
     "slide_type": "slide"
    }
   },
   "source": [
    "### La distribución de capital\n",
    "\n",
    "Posee una parte <b>lógica</b>, y otra parte de <b>almacenamiento</b> de cuentas. Vamos a desarrollar los siguientes temas:<br />\n",
    "\n",
    "\n",
    "<ul>\n",
    "    <li><b>Las cuentas de distribución de capital</b></li>\n",
    "    <li><b>Las cuentas del inversor</b></li>\n",
    "    <li><b>Lógica y visualización</b></li>\n",
    "    <li><b>Ejemplo AHORRO</b></li>\n",
    "</ul>"
   ]
  },
  {
   "attachments": {},
   "cell_type": "markdown",
   "metadata": {
    "slideshow": {
     "slide_type": "subslide"
    }
   },
   "source": [
    "### Las cuentas de distribución de capital\n",
    "\n",
    "Las <b>cuentas ahorro</b> son todas aquellas que tengan asociado el estado <b>AHORRO</b>, puede haber de los 3 tipos de cuentas: bancarias, externas y metálico.\n",
    "\n",
    "\n",
    "La <b>cuenta presupuesto</b> es una cuenta bancaria, externa o metálico, de <b>AHORRO</b>. El usuario puede definir un presupuesto en función del pronóstico de ingresos anuales esperados, con el propósito de acceder a financiación para deuda activa o imprevistos, para eso, el usuario se compromete a depositar una cuota mensual, en una cuenta aparte, cuya finalidad es afrontar dicha deuda al momento de tomarse.\n",
    "\n",
    "La <b>cuenta de educación</b> es una cuenta bancaria, externa o metálico, de <b>AHORRO</b>, cuya finalidad es separar dinero, que será consumido en capacitaciones que tengan un impacto directo en el nivel de ingresos del usuario."
   ]
  },
  {
   "attachments": {},
   "cell_type": "markdown",
   "metadata": {
    "slideshow": {
     "slide_type": "subslide"
    }
   },
   "source": [
    "### Las cuentas del inversor\n",
    "\n",
    "Son cuentas adicionales a las cuentas de distribución de capital.\n",
    "\n",
    "La <b>cuenta bancaria de inversión</b> funciona para articular las cuentas del inversor, estará asociada a una única cuenta bancaria.<br />\n",
    "\n",
    "La cuenta de independencia financiera <b>N3</b>, también llamada \"cuenta de la inmortalidad\", es aquella en la que los fondos están destinados a ser invertidos en fondos indexados, fondos de inversión, ETFs. Estará asociada a cuentas bancarias o externas.\n",
    "\n",
    "La <b>cuenta de trading</b> son cuentas que se utilizan para especular de forma activa o semi-pasiva, haciendo trading de forma personal, o depositando en cuentas de copy-trading.\n",
    "<br />"
   ]
  },
  {
   "attachments": {},
   "cell_type": "markdown",
   "metadata": {
    "slideshow": {
     "slide_type": "subslide"
    }
   },
   "source": [
    "### Lógica y visualización\n",
    "\n",
    "La parte <b>lógica</b> va a tener el objetivo de evaluar el estado de las cuentas y  medir las <b>fluctuación</b> entre los movimientos de éllas, intentando poner en evidencia el pronóstico de <b>crecimiento</b> de las cuentas de distribución de capital.\n",
    "\n",
    "Esta área también se ocupa de la parte de <b>visualización</b>, y de las <b>conexiones a servicios web</b> de terceros para integrarlos dentro de la app. También va a contar con <b>módulos de conversión de unidades</b> en tiempo real para expresar las tablas en una sola divisa, a elección.<br />\n",
    "\n",
    "También se ocupara de la actualización periódica de las cuentas por medio de <b>variables locales del sistema</b>\n",
    "Por ejemplo el estado AHORRO, tiene una variable \"ahorro ideal\", donde el valor es definido por el usuario, como un porcentaje de sus ingresos mensuales, y podrán definirse actualizaciones periódicas de ese porcentaje. A su vez, el dinero que conforma el ahorro ideal, podrá ingresarse de modo que esté distribuido en distintas cuentas y en distintas divisas."
   ]
  },
  {
   "attachments": {},
   "cell_type": "markdown",
   "metadata": {
    "slideshow": {
     "slide_type": "slide"
    }
   },
   "source": [
    "### Ejemplo AHORRO\n",
    "\n",
    "Suponiendo un estado financiero en la tabla de ahorro como esta, que tiene <b>múltiples divisas en múltples cuentas</b>:\n",
    "\n",
    "<center><img src=\"https://github.com/AgustinSt1990/others/blob/main/MaquinaF_aux/AHORROS_1.png?raw=true\" /></center>"
   ]
  },
  {
   "attachments": {},
   "cell_type": "markdown",
   "metadata": {
    "slideshow": {
     "slide_type": "slide"
    }
   },
   "source": [
    "<div class=\"row\">Las visualizaciones serán procesadas previo a ser mostradas, para que estén expresadas en una <b>única divisa</b>, en este caso USD:</div>\n",
    "\n",
    "\n",
    "<div class=\"row\">\n",
    "    <iframe width=\"360\" height=\"250\" frameborder=\"0\" scrolling=\"no\" src=\"//plotly.com/~jackonedev/34.embed\"></iframe>\n",
    "    <iframe width=\"360\" height=\"250\" frameborder=\"0\" scrolling=\"no\" src=\"//plotly.com/~jackonedev/32.embed\"></iframe>\n",
    "</div>"
   ]
  },
  {
   "attachments": {},
   "cell_type": "markdown",
   "metadata": {
    "slideshow": {
     "slide_type": "slide"
    }
   },
   "source": [
    "Las <b>leyendas</b> tendrán funcionalidades dinámicas:\n",
    "<center><iframe width=\"650\" height=\"400\" frameborder=\"0\" scrolling=\"no\" src=\"//plotly.com/~jackonedev/28.embed\"></iframe></center>"
   ]
  },
  {
   "attachments": {},
   "cell_type": "markdown",
   "metadata": {
    "slideshow": {
     "slide_type": "slide"
    }
   },
   "source": [
    "Y la <b>barra de herramientas</b> permite editar el gráfico y exportarlo:\n",
    "\n",
    "<center>\n",
    "    <iframe width=\"765\" height=\"400\" frameborder=\"0\" scrolling=\"no\" src=\"//plotly.com/~jackonedev/30.embed\"></iframe>\n",
    "</center>"
   ]
  },
  {
   "attachments": {},
   "cell_type": "markdown",
   "metadata": {
    "slideshow": {
     "slide_type": "slide"
    }
   },
   "source": [
    "### La base de datos y sus tablas\n",
    "\n",
    "\n",
    "<ul>\n",
    "    <li>Diagrama de relaciones de tablas</li>\n",
    "    <li>Tabla propia, tabla general y tabla resumen</li>\n",
    "    <li>Ejemplo CUENTAS</li>\n",
    "</ul>\n"
   ]
  },
  {
   "attachments": {},
   "cell_type": "markdown",
   "metadata": {
    "slideshow": {
     "slide_type": "subslide"
    }
   },
   "source": [
    "<b class=\"py-4\"><u>Diagrama de relaciones de tablas</u></b>\n",
    "<img src=\"https://github.com/AgustinSt1990/others/blob/main/MaquinaF_aux/diag_tablas.png?raw=true\" />"
   ]
  },
  {
   "attachments": {},
   "cell_type": "markdown",
   "metadata": {
    "slideshow": {
     "slide_type": "subslide"
    }
   },
   "source": [
    "<b><u>Tabla propia, tabla general y tabla resumen</u></b>\n",
    "\n",
    "La relación que existe entre tabla propia, tabla general y tabla resumen es la misma independientemente de la categoría que represente.\n",
    "\n",
    "O sea, a modo de ejemplo usaremos la categoría \"cuentas\" para mostrar como resultarían dichas tablas.\n",
    "\n",
    "Primero, partamos del hecho que <b>tabla propia</b> significa que es exclusiva del objeto que representa, cada tabla propia es independiente del resto de tablas, y posee características únicas.\n",
    "\n",
    "Las <b>tablas generales</b> surgen de recopilar y procesar variables de determinadas tablas propias. De modo de tener agrupados los aspectos relevantes en una sola tabla.\n",
    "\n",
    "Las <b>tablas resumen</b> son un agrupamiento de fácil lectura para el usuario de la información contenida en la tabla general.\n"
   ]
  },
  {
   "attachments": {},
   "cell_type": "markdown",
   "metadata": {
    "slideshow": {
     "slide_type": "subslide"
    }
   },
   "source": [
    "Pasamos directamente a mostrar como sería una <b>tabla general de cuentas</b> de un estado financiero modelo:\n",
    "\n",
    "<img src=\"https://github.com/AgustinSt1990/others/blob/main/MaquinaF_aux/CUENTAS_2.png?raw=true\">\n"
   ]
  },
  {
   "attachments": {},
   "cell_type": "markdown",
   "metadata": {
    "slideshow": {
     "slide_type": "subslide"
    }
   },
   "source": [
    "Mientras que la <b>tabla resumen de cuentas</b> asociada, se vería algo así:\n",
    "\n",
    "<center><img src=\"https://github.com/AgustinSt1990/others/blob/main/MaquinaF_aux/CUENTAS_3.png?raw=true\" /></center>"
   ]
  },
  {
   "attachments": {},
   "cell_type": "markdown",
   "metadata": {
    "slideshow": {
     "slide_type": "slide"
    }
   },
   "source": [
    "### La interface\n",
    "\n",
    "Dos prioridades: \n",
    "\n",
    "- simpleza e intuitivo para un usuario sin registros financieros previos.\n",
    "\n",
    "- versatil a la migración, para usuarios que quieran transladar data de un sistema existente a nuestra app y viceversa.\n",
    "\n",
    "<br />\n",
    "\n",
    "<i>ACLARACION: Las imágenes que se muestran en la presentacion representan un ejemplo de lo que se podría desarrollar, no significa que sea lo óptimo. El objetivo es mostrar posibles gráficos para incorporarlos a la interface</i>"
   ]
  },
  {
   "attachments": {},
   "cell_type": "markdown",
   "metadata": {
    "slideshow": {
     "slide_type": "subslide"
    }
   },
   "source": [
    "La presentación del frontend, está en un archivo independiente formato pdf."
   ]
  }
 ],
 "metadata": {
  "kernelspec": {
   "display_name": "venv",
   "language": "python",
   "name": "python3"
  },
  "language_info": {
   "name": "python",
   "version": "3.10.2 (tags/v3.10.2:a58ebcc, Jan 17 2022, 14:12:15) [MSC v.1929 64 bit (AMD64)]"
  },
  "orig_nbformat": 4,
  "vscode": {
   "interpreter": {
    "hash": "e3aa0a019792015162aa1c99794ca0df469e0e38f26fbe7c861b57d8762c34af"
   }
  }
 },
 "nbformat": 4,
 "nbformat_minor": 2
}
