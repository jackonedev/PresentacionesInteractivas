{
 "cells": [
  {
   "attachments": {},
   "cell_type": "raw",
   "metadata": {},
   "source": [
    "---\n",
    "title: LA MAQUINA FINANCIERA\n",
    "author: jackonedev\n",
    "description: Presentación sobre una APLICACIÓN FINANCIERA\n",
    "output: slides\n",
    "---"
   ]
  },
  {
   "attachments": {},
   "cell_type": "markdown",
   "metadata": {
    "slideshow": {
     "slide_type": "slide"
    }
   },
   "source": [
    "<p style=\"color: white;\">Hola Mundo!</p>"
   ]
  },
  {
   "attachments": {},
   "cell_type": "markdown",
   "metadata": {
    "slideshow": {
     "slide_type": "slide"
    }
   },
   "source": [
    "# ROAD TO GLORY"
   ]
  },
  {
   "attachments": {},
   "cell_type": "markdown",
   "metadata": {
    "slideshow": {
     "slide_type": "slide"
    }
   },
   "source": [
    "# Existe una razón para pensar en grande"
   ]
  },
  {
   "attachments": {},
   "cell_type": "markdown",
   "metadata": {
    "slideshow": {
     "slide_type": "slide"
    }
   },
   "source": [
    "<h3>TEMAS</h3>\n",
    "\n",
    "<h5>1) Introducción al proyecto</h5>\n",
    "<ul>\n",
    "    <li><b>La Máquina Financiera</b></li>\n",
    "    <li><b>Técnologías a implementar</b></li>\n",
    "    <li><b>Presentación personal</b></li>\n",
    "    <li><b>Contextualizando los aspectos técnicos</b></li>\n",
    "</ul>"
   ]
  },
  {
   "attachments": {},
   "cell_type": "markdown",
   "metadata": {
    "slideshow": {
     "slide_type": "subslide"
    }
   },
   "source": [
    "<h5>2) Desarrollo del proyecto</h5>\n",
    "<ul>\n",
    "    <li><b>Componentes de la app</b></li>\n",
    "    <li><b>Las cuentas</b></li>\n",
    "    <li><b>Los movimientos</b></li>\n",
    "    <li><b>La distribución de capital</b></li>\n",
    "    <li><b>La base de datos y las tablas</b></li>\n",
    "    <li><b>La interface</b></li>\n",
    "</ul>\n",
    "<br />\n",
    "<h5>3) Puesta en valor</h5>\n",
    "<ul>\n",
    "    <li><b>Ideas de cierre - Valor que aporta al corto y al largo plazo</b></li>\n",
    "    <li><b>Potencial de desarrollo de nuevas versiones</b></li>\n",
    "    <li><b>Tu beneficio</b></li>\n",
    "    <li><b>Beneficio para Zartex y Costo de oportunidad</b></li>\n",
    "    <li><b>Mi beneficio</b></li>\n",
    "    <li><b>Cuánto cuesta?</b></li>\n",
    "</ul>"
   ]
  },
  {
   "attachments": {},
   "cell_type": "markdown",
   "metadata": {
    "slideshow": {
     "slide_type": "slide"
    }
   },
   "source": [
    "# Introducción al proyecto"
   ]
  },
  {
   "attachments": {},
   "cell_type": "markdown",
   "metadata": {
    "slideshow": {
     "slide_type": "slide"
    }
   },
   "source": [
    "# Una historia real"
   ]
  },
  {
   "attachments": {},
   "cell_type": "markdown",
   "metadata": {
    "slideshow": {
     "slide_type": "slide"
    }
   },
   "source": [
    "### La Máquina Financiera\n",
    "\n",
    "La presentación a continuación ha sido desarrollada por un alumno de la academia ZartexPRO, y trata de una herramienta digital que su desarrollo está aún en período latente.\n",
    "\n",
    "El proyecto se llama <b>La Máquina Financiera</b>, y es un sistema de gestión de finanzas personales. El prototipo final presentado será una aplicación de escritorio que corra dentro de cualquier navegador web, y podrá correr en todos los sistemas operativos de computadoras comerciales.\n",
    "\n",
    "Antes de adentrarnos en los fundamentos de la Máquina Financiera quiero agregar que este proyecto podría ser un componente fundamental para un proyecto más ambicioso, llámese <b>El Mapa de Riqueza Personal</b>."
   ]
  },
  {
   "attachments": {},
   "cell_type": "markdown",
   "metadata": {
    "slideshow": {
     "slide_type": "subslide"
    }
   },
   "source": [
    "### Tecnologías ha implementar\n",
    "\n",
    "Las tecnologías que se van a utilizar son:\n",
    "<center>\n",
    "    - Python<br />\n",
    "    - Django y Django Rest Framework<br />\n",
    "    - HTML/CSS<br />\n",
    "    - Bootstrap<br />\n",
    "    - Pyscript y Pyodide<br />\n",
    "    - Docker<br />\n",
    "</center>\n",
    "\n",
    "La base de datos será Postgress, o SQLite"
   ]
  },
  {
   "attachments": {},
   "cell_type": "markdown",
   "metadata": {
    "slideshow": {
     "slide_type": "subslide"
    }
   },
   "source": [
    "### Presentación personal:\n",
    "\n",
    "Mi nombre es Agustin Federico Stigliano, tengo 32 años, y soy programador. Vivo en Córdoba Capital, Argentina. En el año 2014 arranqué la carrera de Ingeniería Electromecánica y fue cuando aprendí Python. A mediados del 2020 decidí pausar mis estudios. Y en abril del 2021 decidí darle un nuevo rumbo a mi vida, comencé a abrazar los valores de la espiritualidad, aprendí sobre finanzas y retomé mis estudios en el lenguaje de programación Python.\n",
    "\n",
    "A la fecha llevo 2 años aproximadamente, dedicandole la mayor parte de mi tiempo a capacitarme, certificarme, y desarrollar proyectos informáticos, el resto del tiempo lo uso para sostener hábitos de vida saludables y productivos, ya que me aporta mucha felicidad. Me he certificado como Data Scientist en un bootcamp de Digital House, por lo que mi interés se centra en los modelos de Machine Learning. Desde que finalicé el curso me he centrado en el desarrollo y despliegue de aplicaciones web. También, gracias al ejemplo de mi mentor, me he apoyado en el hábito de la lectura, habiendo leído los siguientes libros: \"Clean Code in Python\" (escrito en inglés) y \"Python para Finanzas Quant\" (8 tomos) y libros acerca de otros temas.\n",
    "\n",
    "Me encanta compartir conocimiento porque cuando explico, aprendo, y eso me hace interiorizar aún más los conocimientos. También disfruto de desarrollar presentaciones, y hacer las exposiciones. Soy una persona extrovertida que valora el trabajo en equipo, y que he gestionado mis propios emprendimientos desde pequeño. Mi desafío actualmente es encontrar un poco de estabilidad económica y sueño con pertenecer a una empresa donde pueda crecer profesionalmente."
   ]
  },
  {
   "attachments": {},
   "cell_type": "markdown",
   "metadata": {
    "slideshow": {
     "slide_type": "slide"
    }
   },
   "source": [
    "<img src=\"https://github.com/AgustinSt1990/others/blob/main/historia%201/a1.png?raw=true\"/>"
   ]
  },
  {
   "attachments": {},
   "cell_type": "markdown",
   "metadata": {
    "slideshow": {
     "slide_type": "slide"
    }
   },
   "source": [
    "<img src=\"https://github.com/AgustinSt1990/others/blob/main/historia%201/a2.png?raw=true\"/>"
   ]
  },
  {
   "cell_type": "markdown",
   "metadata": {
    "slideshow": {
     "slide_type": "slide"
    }
   },
   "source": [
    "<img src=\"https://github.com/AgustinSt1990/others/blob/main/historia%201/a3.png?raw=true\"/>"
   ]
  },
  {
   "attachments": {},
   "cell_type": "markdown",
   "metadata": {
    "slideshow": {
     "slide_type": "slide"
    }
   },
   "source": [
    "<img src=\"https://github.com/AgustinSt1990/others/blob/main/historia%201/a4.png?raw=true\"/>"
   ]
  },
  {
   "cell_type": "markdown",
   "metadata": {
    "slideshow": {
     "slide_type": "slide"
    }
   },
   "source": [
    "<img src=\"https://github.com/AgustinSt1990/others/blob/main/historia%201/a5_1.png?raw=true\"/>"
   ]
  },
  {
   "cell_type": "markdown",
   "metadata": {
    "slideshow": {
     "slide_type": "slide"
    }
   },
   "source": [
    "<img src=\"https://github.com/AgustinSt1990/others/blob/main/historia%201/a5_2.png?raw=true\"/>"
   ]
  },
  {
   "cell_type": "markdown",
   "metadata": {
    "slideshow": {
     "slide_type": "slide"
    }
   },
   "source": [
    "<img src=\"https://github.com/AgustinSt1990/others/blob/main/historia%201/a5_3.png?raw=true\"/>"
   ]
  },
  {
   "cell_type": "markdown",
   "metadata": {
    "slideshow": {
     "slide_type": "slide"
    }
   },
   "source": [
    "<img src=\"https://github.com/AgustinSt1990/others/blob/main/historia%201/a5_4.png?raw=true\"/>"
   ]
  },
  {
   "cell_type": "markdown",
   "metadata": {
    "slideshow": {
     "slide_type": "slide"
    }
   },
   "source": [
    "<img src=\"https://github.com/AgustinSt1990/others/blob/main/historia%201/a5_5.png?raw=true\"/>"
   ]
  },
  {
   "cell_type": "markdown",
   "metadata": {
    "slideshow": {
     "slide_type": "slide"
    }
   },
   "source": [
    "<img src=\"https://github.com/AgustinSt1990/others/blob/main/historia%201/a5_6.png?raw=true\"/>"
   ]
  },
  {
   "attachments": {},
   "cell_type": "markdown",
   "metadata": {
    "slideshow": {
     "slide_type": "slide"
    }
   },
   "source": [
    "# Desarrollo del proyecto"
   ]
  },
  {
   "attachments": {},
   "cell_type": "markdown",
   "metadata": {
    "slideshow": {
     "slide_type": "slide"
    }
   },
   "source": [
    "# Liderando una causa noble"
   ]
  },
  {
   "attachments": {},
   "cell_type": "markdown",
   "metadata": {
    "slideshow": {
     "slide_type": "slide"
    }
   },
   "source": [
    "<h3>2) Desarrollo del proyecto</h3>\n",
    "<ol>\n",
    "    <li><b>Componentes de la app</b></li>\n",
    "    <li><b>Las cuentas</b>\n",
    "        <ul>\n",
    "            <li>Tipos de cuentas</li>\n",
    "            <li>Estado de las cuentas</li>\n",
    "            <li>Combinaciones de estados de cuenta y excepciones</li>\n",
    "            <li>Tabla propia, tabla general y tabla resumen</li>\n",
    "        </ul>\n",
    "    </li>\n",
    "    <li><b>Los movimientos</b></li>\n",
    "    <li><b>La distribución de capital</b>\n",
    "        <ul>\n",
    "            <li>Las cuentas de distribución de capital</li>\n",
    "            <li>Las cuentas del inversor</li>\n",
    "            <li>Lógica y visualización</li>\n",
    "            <li>Ejemplo AHORRO</li>\n",
    "        </ul>\n",
    "    </li>\n",
    "    <li><b>La base de datos y las tablas</b></li>\n",
    "    <li><b>La interface</b></li>\n",
    "</ol>\n",
    "\n"
   ]
  },
  {
   "attachments": {},
   "cell_type": "markdown",
   "metadata": {
    "slideshow": {
     "slide_type": "slide"
    }
   },
   "source": [
    "### Componentes de la app\n",
    "\n",
    "La \"Maquina Financiera\", consta de 3 componentes principales:\n",
    "\n",
    "- <b>Las cuentas</b><br />\n",
    "- <b>Los movimientos</b><br />\n",
    "- <b>La distribución de capital</b><br />\n",
    "\n",
    "La interface se considera como un cuarto componente aunque ésta puede ser reemplazada fácilmente<br />\n",
    "\n"
   ]
  },
  {
   "attachments": {},
   "cell_type": "markdown",
   "metadata": {
    "slideshow": {
     "slide_type": "slide"
    }
   },
   "source": [
    "### Tipos de cuentas\n",
    "\n",
    "Es el primero de los pilares.\n",
    "\n",
    "Cualquier registro dentro de nuestro estado financiero pertenece a uno de los tres tipos de cuentas existentes, éstas son:\n",
    "\n",
    "- <b>Cuenta bancaria</b><br />\n",
    "- <b>Cuenta externa</b><br />\n",
    "- <b>Cuenta metálico</b><br />"
   ]
  },
  {
   "attachments": {},
   "cell_type": "markdown",
   "metadata": {
    "slideshow": {
     "slide_type": "subslide"
    }
   },
   "source": [
    "<b><u>Cantidad de divisas</u></b>:\n",
    "\n",
    "\n",
    "Las <b>cuentas bancarias</b>: opera con 1 divisa\n",
    "\n",
    "Las <b>cuentas externas</b>: opera con múltiples divisas\n",
    "\n",
    "Las <b>cuentas metálico</b>: opera con categorías como cash, o activos físicos cotizados, o commodities.\n",
    "\n",
    "<br />\n",
    "\n",
    "<b><u>Formatos reales</u></b>:\n",
    "\n",
    "Las <b>cuentas bancarias</b>: son estrictamente cuentas bancarias\n",
    "\n",
    "Las <b>cuentas externas</b>: Pueden ser cuentas bancarias virtuales, billeteras cripto, broker, exchange, DEX\n",
    "\n",
    "Las <b>cuentas metálico</b> son lo que representa la categoría "
   ]
  },
  {
   "attachments": {},
   "cell_type": "markdown",
   "metadata": {
    "slideshow": {
     "slide_type": "subslide"
    }
   },
   "source": [
    "### Estado de las cuentas\n",
    "\n",
    "A su vez existen <b>estados</b> que se vinculan a cada una de las cuentas creadas, éstos son:\n",
    "\n",
    "- INGRESO\n",
    "- AHORRO\n",
    "- EDUCACION\n",
    "- PRESUPUESTO\n",
    "- INVERSION\n",
    "- N3\n",
    "- TRADING\n",
    "- EGRESO\n",
    "\n",
    "Los estados no son excluyentes entre sí, pero si existe ciertas incompatibilidades lógicas cuya finalidad es educar al usuario."
   ]
  },
  {
   "attachments": {},
   "cell_type": "markdown",
   "metadata": {
    "slideshow": {
     "slide_type": "subslide"
    }
   },
   "source": [
    "### Combinaciones de estados y excepciones\n",
    "\n",
    "A continuación enumeramos todos los estados posibles:\n",
    "\n",
    "\n",
    "- INGRESO\n",
    "- AHORRO\n",
    "- EGRESO\n",
    "- INGRESO, EGRESO\n",
    "- AHORRO, EGRESO\n",
    "- AHORRO, EDUCACION, EGRESO\n",
    "- AHORRO, PRESUPUESTO, EGRESO\n",
    "- INVERSION\n",
    "- INVERSION, N3\n",
    "- INVERSION, TRADING"
   ]
  },
  {
   "attachments": {},
   "cell_type": "markdown",
   "metadata": {
    "slideshow": {
     "slide_type": "subslide"
    }
   },
   "source": [
    "Es parte de la lógica que existan ciertas excepciones, de modo de estructurar el funcionamiento del software:\n",
    "\n",
    "<br />\n",
    "\n",
    "La <b>cuenta metálico</b> admite el estado INGRESO, AHORRO, EGRESO, y no admite el estado INVERSION, ni sus derivados.\n",
    "\n",
    "Solo una <b>cuenta bancaria</b> puede tener el estado INVERSION sin derivados.\n",
    "\n",
    "\n",
    "\n"
   ]
  },
  {
   "attachments": {},
   "cell_type": "markdown",
   "metadata": {
    "slideshow": {
     "slide_type": "subslide"
    }
   },
   "source": [
    "### Tablas propias, generales y de resumen\n",
    "\n",
    "Más al final de ésta unidad volveremos a ver este tema. \n",
    "Las <b>base de datos</b> contemplará las siguientes tablas para la cuentas:\n",
    "\n",
    "<br />\n",
    "\n",
    "\n",
    "Las <b>cuentas bancarias, externas y metálico</b> tendrán su <b>tabla propia</b> dentro de la base de datos, para que al crearse una cuenta, cada una posea características independientes entre los distintos tipos.\n",
    "\n",
    "La <b>tabla general de cuentas</b> surge de combinar y procesar la información necesaria de las tablas propias de las cuentas en una sola, de fácil lectura.\n",
    "\n",
    "La <b>tabla resumen de cuentas</b> surge de agrupar y procesar la informacón dentro de la tabla general de cuentas."
   ]
  },
  {
   "attachments": {},
   "cell_type": "markdown",
   "metadata": {
    "slideshow": {
     "slide_type": "subslide"
    }
   },
   "source": [
    "A continuación se muestra una <b>tabla general de cuentas</b> de un estado financiero modelo:\n",
    "\n",
    "<img src=\"https://github.com/AgustinSt1990/others/blob/main/MaquinaF_aux/CUENTAS_2.png?raw=true\">\n"
   ]
  },
  {
   "attachments": {},
   "cell_type": "markdown",
   "metadata": {
    "slideshow": {
     "slide_type": "subslide"
    }
   },
   "source": [
    "Mientras que una <b>tabla resumen de cuentas</b> se vería algo así:\n",
    "\n",
    "<center><img src=\"https://github.com/AgustinSt1990/others/blob/main/MaquinaF_aux/CUENTAS_3.png?raw=true\" /></center>"
   ]
  },
  {
   "attachments": {},
   "cell_type": "markdown",
   "metadata": {
    "slideshow": {
     "slide_type": "slide"
    }
   },
   "source": [
    "### Los movimientos\n",
    "Existen 3 tipos de movimientos\n",
    "\n",
    "<ol>\n",
    "    <li><b>Los ingresos</b></li>\n",
    "    <li><b>Los egresos</b></li>\n",
    "    <li><b>Las transferencias </b></li>\n",
    "</ol>\n",
    "\n",
    "<br />\n",
    "<b><u>Definiciones</u></b>\n",
    "\n",
    "<b>Ingresos</b> son todos los movimientos en el que aumente la cantidad de dinero dentro del sistema.<br />\n",
    "<b>Transferencias</b> es cuando pasan recursos de una cuenta a otra.<br />\n",
    "<b>Egresos</b> es cuando se consumen recursos del sietema.\n",
    "\n",
    "<b><u>Acciones</u></b>\n",
    "\n",
    "Los <b>ingresos</b> y egresos modifican el estado de la cuenta que realiza dicho movimiento.<br />\n",
    "Las <b>transferencias</b> no alteran el estado de las cuentas.\n",
    "\n",
    "\n",
    "Al igual que las cuentas, los movimientos también tendrán sus <b>tablas propias, tabla general de movimientos, y tabla resumen de movimientos</b>."
   ]
  },
  {
   "attachments": {},
   "cell_type": "markdown",
   "metadata": {
    "slideshow": {
     "slide_type": "slide"
    }
   },
   "source": [
    "### La distribución de capital\n",
    "\n",
    "Posee una parte <b>lógica</b>, y otra parte de <b>almacenamiento</b> de cuentas. Vamos a desarrollar los siguientes temas:<br />\n",
    "\n",
    "\n",
    "<ul>\n",
    "    <li>Las cuentas de distribución de capital</li>\n",
    "    <li>Las cuentas del inversor</li>\n",
    "    <li>Lógica y visualización</li>\n",
    "    <li>Ejemplo AHORRO</li>\n",
    "</ul>"
   ]
  },
  {
   "attachments": {},
   "cell_type": "markdown",
   "metadata": {
    "slideshow": {
     "slide_type": "subslide"
    }
   },
   "source": [
    "### Las cuentas de distribución de capital\n",
    "\n",
    "Las <b>cuentas ahorro</b> son todas aquellas que tengan asociado el estado <b>AHORRO</b>, puede haber de los 3 tipos de cuentas: bancarias, externas y metálico.\n",
    "\n",
    "\n",
    "La <b>cuenta presupuesto</b> es una cuenta bancaria, externa o metálico, de <b>AHORRO</b>. El usuario puede definir un presupuesto en función del pronóstico de ingresos anuales esperados. El presupuesto tendrá el propósito de habilitar al usuario a acceder a financiación para deuda activa o imprevistos, para eso, el usuario se compromete a depositar una cuota mensual, en una cuenta aparte, cuya finalidad es afrontar dicha deuda al momento de tomarse.\n",
    "\n",
    "La <b>cuenta de educación</b> es una cuenta bancaria, externa o metálico, de <b>AHORRO</b>, cuya finalidad es separar dinero, que será consumido en capacitaciones que tengan un impacto directo en el nivel de ingresos del usuario."
   ]
  },
  {
   "attachments": {},
   "cell_type": "markdown",
   "metadata": {
    "slideshow": {
     "slide_type": "subslide"
    }
   },
   "source": [
    "\n",
    "### Las cuentas del inversor\n",
    "\n",
    "La <b>cuenta bancaria de inversión</b> funciona para articular las cuentas del inversor, estará asociada a una única cuenta bancaria.<br />\n",
    "\n",
    "La cuenta de independencia financiera <b>N3</b>, también llamada \"cuenta de la inmortalidad\", es aquella en la que los fondos están destinados a ser invertidos en fondos indexados, fondos de inversión, ETFs. Estará asociada a cuentas bancarias o externas.\n",
    "\n",
    "La <b>cuenta de trading</b> son cuentas que se utilizan para especular de forma activa o semi-pasiva, haciendo trading de forma personal, o depositando en cuentas de copy-trading.\n",
    "<br />"
   ]
  },
  {
   "attachments": {},
   "cell_type": "markdown",
   "metadata": {
    "slideshow": {
     "slide_type": "subslide"
    }
   },
   "source": [
    "### Lógica y visualización\n",
    "\n",
    "La parte <b>lógica</b> va a tener el objetivo de evaluar el estado de las cuentas y  medir las <b>fluctuación</b> entre los movimientos de éllas, intentando poner en evidencia el pronóstico de <b>crecimiento</b> de las cuentas de distribución de capital.\n",
    "\n",
    "Esta área también se ocupa de la parte de <b>visualización</b>, y de las <b>conexiones a servicios web</b> de terceros para integrarlos dentro de la app. También va a contar con <b>módulos de conversión de unidades</b> en tiempo real para expresar las tablas en una sola divisa, a elección.<br />\n",
    "\n",
    "También se ocupara de la actualización periódica de las cuentas por medio de <b>variables locales del sistema</b>\n",
    "Por ejemplo el estado AHORRO, tiene una variable \"ahorro ideal\", donde el valor es definido por el usuario, como un porcentaje de sus ingresos mensuales, y podrán definirse actualizaciones periódicas de ese porcentaje. A su vez, el dinero que conforma el ahorro ideal, podrá ingresarse de modo que esté distribuido en distintas cuentas y en distintas divisas."
   ]
  },
  {
   "attachments": {},
   "cell_type": "markdown",
   "metadata": {
    "slideshow": {
     "slide_type": "subslide"
    }
   },
   "source": [
    "### Ejemplo AHORRO\n",
    "\n",
    "Suponiendo un estado financiero en la tabla de ahorro como esta (que tenga múltiples divisas en múltples cuentas):\n",
    "\n",
    "<center><img src=\"https://github.com/AgustinSt1990/others/blob/main/MaquinaF_aux/AHORROS_1.png?raw=true\" /></center>\n",
    "\n"
   ]
  },
  {
   "attachments": {},
   "cell_type": "markdown",
   "metadata": {
    "slideshow": {
     "slide_type": "subslide"
    }
   },
   "source": [
    "Las visualizaciones serán procesadas previo a ser mostradas, para que estén expresadas en una única divisa, en este caso USD:\n",
    "\n",
    "\n",
    "<center>\n",
    "    <iframe width=\"500\" height=\"400\" frameborder=\"0\" scrolling=\"no\" src=\"//plotly.com/~jackonedev/3.embed\"></iframe>\n",
    "    <iframe width=\"500\" height=\"400\" frameborder=\"0\" scrolling=\"no\" src=\"//plotly.com/~jackonedev/5.embed\"></iframe>\n",
    "</center>"
   ]
  },
  {
   "attachments": {},
   "cell_type": "markdown",
   "metadata": {
    "slideshow": {
     "slide_type": "subslide"
    }
   },
   "source": [
    "Las visualizaciones tendrán funcionalidades dinámicas:\n",
    "<center><iframe width=\"765\" height=\"400\" frameborder=\"0\" scrolling=\"no\" src=\"//plotly.com/~jackonedev/9.embed\"></iframe></center>"
   ]
  },
  {
   "attachments": {},
   "cell_type": "markdown",
   "metadata": {
    "slideshow": {
     "slide_type": "subslide"
    }
   },
   "source": [
    "\n",
    "<center>\n",
    "    <iframe width=\"765\" height=\"400\" frameborder=\"0\" scrolling=\"no\" src=\"//plotly.com/~jackonedev/7.embed\"></iframe>\n",
    "</center>"
   ]
  },
  {
   "attachments": {},
   "cell_type": "markdown",
   "metadata": {
    "slideshow": {
     "slide_type": "slide"
    }
   },
   "source": [
    "### La base de datos y sus tablas"
   ]
  },
  {
   "attachments": {},
   "cell_type": "markdown",
   "metadata": {
    "slideshow": {
     "slide_type": "subslide"
    }
   },
   "source": [
    "<img src=\"https://github.com/AgustinSt1990/others/blob/main/MaquinaF_aux/diag_tablas.png?raw=true\" />\n"
   ]
  },
  {
   "attachments": {},
   "cell_type": "markdown",
   "metadata": {
    "slideshow": {
     "slide_type": "slide"
    }
   },
   "source": [
    "### La interface\n",
    "\n",
    "Dos prioridades: \n",
    "\n",
    "- simpleza e intuitivo para un usuario sin registros financieros previos.\n",
    "\n",
    "- versatil a la migración, para usuarios que quieran transladar data de un sistema existente a nuestra app\n",
    "\n",
    "<br />\n",
    "\n",
    "<i>ACLARACION: Las imágenes que se muestran en la presentacion representan un ejemplo de lo que se podría desarrollar, no significa que sea lo óptimo.</i>"
   ]
  },
  {
   "attachments": {},
   "cell_type": "markdown",
   "metadata": {
    "slideshow": {
     "slide_type": "slide"
    }
   },
   "source": [
    "Las presentación está en un pdf aparte."
   ]
  },
  {
   "attachments": {},
   "cell_type": "markdown",
   "metadata": {
    "slideshow": {
     "slide_type": "slide"
    }
   },
   "source": [
    "# Puesta en valor"
   ]
  },
  {
   "attachments": {},
   "cell_type": "markdown",
   "metadata": {
    "slideshow": {
     "slide_type": "slide"
    }
   },
   "source": [
    "# La estrella, que me ha, de guiar"
   ]
  },
  {
   "attachments": {},
   "cell_type": "markdown",
   "metadata": {},
   "source": [
    "<h5>3) Puesta en valor</h5>\n",
    "<ul>\n",
    "    <li><b>Ideas de cierre - Valor que aporta al corto y al largo plazo</b><br />CLARIDAD EVIDENCIA:Si haz llegado hasta acá quiero agradecerte. El significado de esta presentación es aportarte valor. A mí como a otros alumnos nos han parecido incómodas las herramientas que haz desarrollado en excel - google sheets. Y si te ofrezco algo en estas lineas no es para convencerte, es porque sinceramente creo que esta herramienta que te he presentado está a la altura de la calidad que ofrece ZartexPRO, y que es una posible respuesta hacia estos alumnos.</br></li>\n",
    "    <li><b>Potencial de desarrollo de nuevas versiones</b><br />PRODUCTIVIDAD ESCALABILIDAD: La aplicación de escritorio puede convertirse en una aplicación web. La interface puede cambiarse fácilmente, o puede tener muchas, una para android y otra para PC. Las bases de datos centralizadas permitirían ofrecer nuevos servicios a los clientes preservando la seguridad de sus datos. Podrían desarrollarse modelos predictivos de Machine Learning a través de los datos ingresados por el usuario.</li>\n",
    "    <li><b>Tu beneficio</b><br />Considero que podrías obtener al menos 3 grandes beneficios:<br />- Una buena inversión: El éxito de este proyecto tendrá un impacto enorme en alumnos de tu comunidad y el costo de ejecutar este proyecto es bajo<br />- Recursos humanos propios: haz incubado, a través de tu academia, talento humano que tiene enorme admiración por tu ser, y que de tener la oportunidad de ofrecerte sus habilidades lo harían gustosamente, y contar con ese recurso en una mesa directiva es invaluable, la lealtad.<br />- Encontrar nuevas fromas de inspiración: considero que podría gustarte el formato de presentación por slideshow, ya sea para exponer, o para compartir a los oyentes, a modo de resumen, durante la exposición principal.</li>\n",
    "    <li><b>Costo de oportunidad</b><br />La metodología de realizar una presentación antes de desarrollar el código fue enormemente reveladora de conocimiento. Está presentación me ha evitado conflictos a futuro durante la toma de decisiones, y esta presentación la tengo que capitalizar. Una forma sería poniendome a trabajar en esto sabiendo que cuento con los recursos para hacerlo. La otra sería exponer esta información como parte de mi currículum, para intentar conseguir un puesto de trabajo, pero siendo honesto, no quiero exponer esta información, quiero trabajar en el código y en el desarrollo de la documentación, y estudiar lo que me falta saber para seguir desarrollando este proyecto. Considero que es muy íntima esta información respecto a la academia Zartex PRO, y aunque me enfuerce por eliminar los logos que he puesto, y los párrafos que menciono la academia, aún así me duele exponer esta información.</li>\n",
    "    <li><b>Beneficio para Zartex PRO</b><br />Un caso de éxito más entre sus alumnos. Creeme que ya aprendí, y la próxima vez que entre al ruedo será para no volver a salir.</li>\n",
    "    <li><b>Mi beneficio</b><br />- Beneficio económico: sería mi primer proyecto freelance<br />- Beneficio vocacional: Desarrollo de aplicaciones Web + Finanzas + Machine Learning = AMOR<br />- Beneficio espiritual: hacer esto por tí me da el doble de ganas de vivir que hacerlo solo para mí.</li>\n",
    "    <li><b>Cuánto cuesta?</b></li>\n",
    "</ul>"
   ]
  },
  {
   "attachments": {},
   "cell_type": "markdown",
   "metadata": {
    "slideshow": {
     "slide_type": "subslide"
    }
   },
   "source": [
    "<b>COSTO DEL PROYECTO LA MAQUINA FINANCIERA</b>\n",
    "\n",
    "\n",
    "Todo el proyecto, el prototipo funcional, escapa totalmente de mis posibilidades de ser presupuestado y proyectado a un plazo razonable.\n",
    "\n",
    "<b>Razones por las que no conviene desarrollar un prototipo funcional:</b>\n",
    "\n",
    "1) is not a one man work.\n",
    "\n",
    "2) El prototipo presentado con o sin interface, no estaría habilitado a escalar a una aplicación web. (Autenticación de las solicitudes, encriptar la información de los usuarios)\n",
    "\n",
    "3) La productividad de este proyecto se centra en construir un esqueleto de la app, y poder evaluarla, en un corto período de tiempo.\n",
    "\n",
    "<br />\n",
    "\n",
    "<b>Decisiones que poseen lógica estratégica</b>:\n",
    "\n",
    "1) Crear los modelos que conformen la estructura y las relaciones de las tablas dentro de la base de datos.\n",
    "\n",
    "2) Crear interacciones con esos modelos a través de protocolo HTTP\n",
    "\n",
    "3) Testear los endpoints de dichas interacciones\n",
    "\n",
    "4) Diseñar una interface en Jupyter notebook que funcione como cliente\n",
    "\n",
    "5) Enfocarse en los módulos de exportación de datos en formato .csv .xmlx, ..., y los módulos de exportación de visualizaciones, también los módulo de conversión de unidades en tiempo real.\n",
    "\n",
    "<br />\n",
    "\n",
    "<b>LA PROPUESTA</b>:\n",
    "\n",
    "El plazo de entrega es de 40 días (máximo 60), el costo del proyecto es de 887,77 USD.\n",
    "\n",
    "El pago se hará en alguna stablecoin cripto. Y será 300 USD de anticipo, y el resto al finalizar la presentación del código."
   ]
  },
  {
   "attachments": {},
   "cell_type": "markdown",
   "metadata": {
    "slideshow": {
     "slide_type": "slide"
    }
   },
   "source": [
    "Parece un sueño escribir esto, y que se cumpla. Te agradezco de todo corazón lo que haz hecho por mí y por todos nosotros que valoramos lo mismo que vos.\n",
    "<br />\n",
    "<center>Gracias, tante grazie, gracias, gracias.</center>"
   ]
  },
  {
   "attachments": {},
   "cell_type": "markdown",
   "metadata": {
    "slideshow": {
     "slide_type": "slide"
    }
   },
   "source": [
    "# Hagamos que suceda"
   ]
  },
  {
   "cell_type": "markdown",
   "metadata": {
    "slideshow": {
     "slide_type": "slide"
    }
   },
   "source": []
  },
  {
   "attachments": {},
   "cell_type": "markdown",
   "metadata": {
    "slideshow": {
     "slide_type": "slide"
    }
   },
   "source": [
    "FIN"
   ]
  },
  {
   "attachments": {},
   "cell_type": "markdown",
   "metadata": {
    "slideshow": {
     "slide_type": "slide"
    }
   },
   "source": [
    "\n",
    "Este sistema está pensado para gente común, cuando las finanzas del día a día lo son todo. Automatizar esa tarea que cuesta esfuerzo y no inspira hacer de registrar las cosas, que en escencia es burocrática.\n",
    "\n",
    "Las consecuencias de no tener poseer registros es evidente, no es posible traer claridad por fuera de la memoria.\n",
    "\n",
    "Considero que este prototipo se puede adaptar a un sistema financiero complejo ya en marcha, aunque no aporte valor al corto plazo. \n",
    "\n",
    "\n",
    "\n",
    "\n",
    "\n",
    "\n",
    "\n",
    "\n",
    "\n"
   ]
  },
  {
   "attachments": {},
   "cell_type": "markdown",
   "metadata": {
    "slideshow": {
     "slide_type": "slide"
    }
   },
   "source": [
    "##### Sin claridad, las finanzas son inexistentes. Y una persona sin claridad y sin finanzas está yendo camino al fracaso."
   ]
  },
  {
   "attachments": {},
   "cell_type": "markdown",
   "metadata": {
    "slideshow": {
     "slide_type": "slide"
    }
   },
   "source": [
    "Una pregunta, al largo plazo... ¿Estos primeros usuarios tendrán más ventaja a futuro?. Sí!.\n",
    "\n",
    "La visión para este proyecto es la de tener algoritmos de Machine Learning, que permitan asistir a la toma de decisiones. \n",
    "\n",
    "Cuando se parte de data <b>TAN</b> empirica, como los consumos del día a día, a la larga no necesitas de andar mirando los índices de inflación. \n",
    "\n",
    "Tenés algoritmos que predigan los aumentos <b>POR</b> categoría. \n",
    "\n",
    "No olvidemos que la tasa inflación mide \"el aumento generalizado de los precios\", por lo tanto representa un promedio del aumento de precios.\n",
    "\n",
    "Cuando la inflación se descontrola aparecen fenómenos atípicos (más aún cuando el estado intenta corregir sus propios fallos), y eso hace que algunos productos aumenten muy poco y otro segmento de producto aumente mucho más.\n",
    "\n",
    "Por ejemplo, no el mismo el impacto de la inflación en el café en Colombia que en Argentina, ya que en un país es un producto local y en el otro un producto importado.\n",
    "\n",
    "Por ejemplo para que exista una inflación de un 100% anual se necesita un aumento subsidiado del 30% en vehículos que compense un 150% o más, en alimentos.\n",
    "\n",
    "Está lleno de fenómenos, y apuntamos a que se puedan pronósticar para que la gente común pueda hacer uso estratégico de sus recursos de forma que le permita enriquecerse.\n",
    "\n",
    "## Te paso un par de impresiones de pantalla que considero que te pueden ayudar a ver el problema que quiero solucionar.\n",
    "\n"
   ]
  },
  {
   "attachments": {},
   "cell_type": "markdown",
   "metadata": {
    "slideshow": {
     "slide_type": "slide"
    }
   },
   "source": [
    "# Me entusiasma este proyecto porque estudié con el mejor y porque puse el trabajo.\n"
   ]
  }
 ],
 "metadata": {
  "kernelspec": {
   "display_name": "venv",
   "language": "python",
   "name": "python3"
  },
  "language_info": {
   "codemirror_mode": {
    "name": "ipython",
    "version": 3
   },
   "file_extension": ".py",
   "mimetype": "text/x-python",
   "name": "python",
   "nbconvert_exporter": "python",
   "pygments_lexer": "ipython3",
   "version": "3.10.2 (tags/v3.10.2:a58ebcc, Jan 17 2022, 14:12:15) [MSC v.1929 64 bit (AMD64)]"
  },
  "orig_nbformat": 4,
  "vscode": {
   "interpreter": {
    "hash": "e3aa0a019792015162aa1c99794ca0df469e0e38f26fbe7c861b57d8762c34af"
   }
  }
 },
 "nbformat": 4,
 "nbformat_minor": 2
}
