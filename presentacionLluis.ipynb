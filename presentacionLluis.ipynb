{
 "cells": [
  {
   "attachments": {},
   "cell_type": "raw",
   "metadata": {},
   "source": [
    "---\n",
    "title: PRESENTACION PROYECTO \"BRIDGE\"\n",
    "author: jackonedev\n",
    "description: MVP + PROPUESTA\n",
    "output: slides\n",
    "---"
   ]
  },
  {
   "attachments": {},
   "cell_type": "markdown",
   "metadata": {
    "slideshow": {
     "slide_type": "slide"
    }
   },
   "source": [
    "# ROAD TO GLORY"
   ]
  },
  {
   "attachments": {},
   "cell_type": "markdown",
   "metadata": {
    "slideshow": {
     "slide_type": "slide"
    }
   },
   "source": [
    "### INTRODUCCION\n",
    "\n",
    "<center>\n",
    "    <b>\n",
    "        -   Divertida explicación de las web apps <br />\n",
    "        -   Presentación del último desarrollo <br />\n",
    "        -   Propuesta de desarrollo para ZartexPRO <br />\n",
    "    </b>\n",
    "</center>"
   ]
  },
  {
   "attachments": {},
   "cell_type": "markdown",
   "metadata": {
    "slideshow": {
     "slide_type": "slide"
    }
   },
   "source": [
    "# Una historia real\n"
   ]
  },
  {
   "attachments": {},
   "cell_type": "markdown",
   "metadata": {
    "slideshow": {
     "slide_type": "slide"
    }
   },
   "source": [
    "\n",
    "A continuación a modo de dibujo animado, he creado un raconto breve y conciso del desarrollo de software que he realizado y el potencial que puede alcanzar:"
   ]
  },
  {
   "attachments": {},
   "cell_type": "markdown",
   "metadata": {
    "slideshow": {
     "slide_type": "slide"
    }
   },
   "source": [
    "\n",
    "<img src=\"https://github.com/AgustinSt1990/others/blob/main/historia%201/a1.png?raw=true\"/>"
   ]
  },
  {
   "attachments": {},
   "cell_type": "markdown",
   "metadata": {
    "slideshow": {
     "slide_type": "slide"
    }
   },
   "source": [
    "<img src=\"https://github.com/AgustinSt1990/others/blob/main/historia%201/a2.png?raw=true\"/>"
   ]
  },
  {
   "cell_type": "markdown",
   "metadata": {
    "slideshow": {
     "slide_type": "slide"
    }
   },
   "source": [
    "<img src=\"https://github.com/AgustinSt1990/others/blob/main/historia%201/a3.png?raw=true\"/>"
   ]
  },
  {
   "attachments": {},
   "cell_type": "markdown",
   "metadata": {
    "slideshow": {
     "slide_type": "slide"
    }
   },
   "source": [
    "<img src=\"https://github.com/AgustinSt1990/others/blob/main/historia%201/a4.png?raw=true\"/>"
   ]
  },
  {
   "cell_type": "markdown",
   "metadata": {
    "slideshow": {
     "slide_type": "slide"
    }
   },
   "source": [
    "<img src=\"https://github.com/AgustinSt1990/others/blob/main/historia%201/a5_1.png?raw=true\"/>"
   ]
  },
  {
   "cell_type": "markdown",
   "metadata": {
    "slideshow": {
     "slide_type": "slide"
    }
   },
   "source": [
    "<img src=\"https://github.com/AgustinSt1990/others/blob/main/historia%201/a5_2.png?raw=true\"/>"
   ]
  },
  {
   "cell_type": "markdown",
   "metadata": {
    "slideshow": {
     "slide_type": "slide"
    }
   },
   "source": [
    "<img src=\"https://github.com/AgustinSt1990/others/blob/main/historia%201/a5_3.png?raw=true\"/>"
   ]
  },
  {
   "cell_type": "markdown",
   "metadata": {
    "slideshow": {
     "slide_type": "slide"
    }
   },
   "source": [
    "<img src=\"https://github.com/AgustinSt1990/others/blob/main/historia%201/a5_4.png?raw=true\"/>"
   ]
  },
  {
   "cell_type": "markdown",
   "metadata": {
    "slideshow": {
     "slide_type": "slide"
    }
   },
   "source": [
    "<img src=\"https://github.com/AgustinSt1990/others/blob/main/historia%201/a5_5.png?raw=true\"/>"
   ]
  },
  {
   "cell_type": "markdown",
   "metadata": {
    "slideshow": {
     "slide_type": "slide"
    }
   },
   "source": [
    "<img src=\"https://github.com/AgustinSt1990/others/blob/main/historia%201/a5_6.png?raw=true\"/>"
   ]
  },
  {
   "attachments": {},
   "cell_type": "markdown",
   "metadata": {
    "slideshow": {
     "slide_type": "subslide"
    }
   },
   "source": [
    "# Fin"
   ]
  },
  {
   "attachments": {},
   "cell_type": "markdown",
   "metadata": {
    "slideshow": {
     "slide_type": "slide"
    }
   },
   "source": [
    "# Existe una razón para pensar en grande"
   ]
  },
  {
   "attachments": {},
   "cell_type": "markdown",
   "metadata": {
    "slideshow": {
     "slide_type": "slide"
    }
   },
   "source": [
    "Ahora voy a prensentar un video del MVP (Minimum Viable Product) de la Aplicación Web desarrollada\n",
    "\n",
    "Las tecnologías que se utilizan son Python, Django, Django Rest Framework, PyScript, Pyodide, Pandas, Jupyter Notebook, HTML/CSS, Bootstrap, SQLite\n",
    "\n",
    "(Aclaro que lo que el usuario ve es solo el rectangulo del centro)\n",
    "\n",
    "<center>\n",
    "<iframe width=\"560\" height=\"315\" src=\"https://www.youtube.com/embed/otY4nFuPeWg\" title=\"YouTube video player\" frameborder=\"0\" allow=\"accelerometer; autoplay; clipboard-write; encrypted-media; gyroscope; picture-in-picture\" allowfullscreen></iframe>\n",
    "</center>"
   ]
  },
  {
   "attachments": {},
   "cell_type": "markdown",
   "metadata": {
    "slideshow": {
     "slide_type": "slide"
    }
   },
   "source": [
    "# Liderando una causa noble\n",
    "\n"
   ]
  },
  {
   "attachments": {},
   "cell_type": "markdown",
   "metadata": {
    "slideshow": {
     "slide_type": "slide"
    }
   },
   "source": [
    "\n",
    "Me tomo el tiempo de explicar el algoritmo en lo que quiero seguir trabajando.\n",
    "\n",
    "Se trata de un sistema de gestión financiera del día a día. Para aquellos que requieren claridad en sus finanzas más básicas, como para aquellos que quieren controlar sus finanzas futuras arrancando a almacenar los datos de sus finanzas actuales.\n",
    "\n",
    "Este algoritmo se llama \"La Máquina Financiera\", que será un componente de un proyecto a futuro más ambicioso que será \"El Mapa de Riqueza\" y se incorpore el concepto de ingresos pasivos.\n",
    "\n",
    "La \"MaquinaF\" para abreviar, consta de 3 pilares:\n",
    "\n",
    "<center>\n",
    "    - Ingresos<br />\n",
    "    - Distribución del capital<br />\n",
    "    - Egresos<br />\n",
    "</center>\n",
    "\n",
    "Lo que me inspira de desarrollar esto es la posibilidad de aportar valor a la academia ZartexPRO.\n",
    "\n",
    "\n"
   ]
  },
  {
   "attachments": {},
   "cell_type": "markdown",
   "metadata": {
    "slideshow": {
     "slide_type": "slide"
    }
   },
   "source": [
    "## Los ingresos:\n",
    "\n",
    "Los <b>ingresos</b> tendran su propia tabla dentro de la base de datos y estarán asociados a una cuenta bancaria o una cuenta externa o metálico<br />\n",
    "<br />\n",
    "Las <b>cuentas bancarias</b> tendrán su propia tabla dentro de la base de datos, cada cuenta bancaria deberá poseer una divisa que lo caracteriza.<br />\n",
    "Las <b>cuentas externas</b> tendrán su propia tabla dentro de la base de datos, cada cuenta externa posee multiples divisas (caso exchange o wallet).<br />\n",
    "Las cuentas bancarias y externas deberán poseer una lógica comercial de \"conversión de divisa a valor actual\", en donde se consule a la Web las cotizaciones correspondientes y se devuelva dicha conversión.<br />\n",
    "<br />\n",
    "Los ingresos que no caen dentro de una cuenta bancaria se denominaran \"<b>metálico</b>\" tendrán sus propia tabla dentro de la base de datos, estos ingresos crudos contemplan pagos cash o en otro tipo canje.\n",
    "\n"
   ]
  },
  {
   "attachments": {},
   "cell_type": "markdown",
   "metadata": {
    "slideshow": {
     "slide_type": "slide"
    }
   },
   "source": [
    "## La distribución de capital: \n",
    "\n",
    "Va a ser una parte lógica, y otra parte de almacenamiento de datos.<br />\n",
    "La parte <b>lógica</b> se va a encargar de procesar la data ingresada en los ingresos, los egresos y cuentas adicionales propias de la distribución de capital. El objetivo va a ser medir la <b>fluctuación</b> de los ingresos con los egresos, intentando garantizar el <b>crecimiento</b> de las cuentas de distribución de capital. Esta área también se ocupa de la parte de <b>visualización</b>.<br />\n",
    "<br />\n",
    "Las cuentas de distribución de capital:<br />\n",
    "<br />\n",
    "La <b>cuenta ahorro</b> es obligatoria y tendrá su propia tabla dentro de la base de datos, estará asociada a una única cuenta bancaria o cuenta externa.<br />\n",
    "<br />\n",
    "La <b>cuenta de educación</b> es opcional y tendrá su propia tabla dentro de la base de datos, estará asociada a una única cuenta bancaria o cuenta externa.<br />\n",
    "\n",
    "\n"
   ]
  },
  {
   "attachments": {},
   "cell_type": "markdown",
   "metadata": {
    "slideshow": {
     "slide_type": "subslide"
    }
   },
   "source": [
    "\n",
    "Luego vienen las cuentas de Inversión<br />\n",
    "<br />\n",
    "La <b>cuenta bancaria de inversión</b> es obligatoria y tendrá su propia tabla dentro de la base de datos, estará asociada a una única cuenta bancaria.<br />\n",
    "<br />\n",
    "La <b>cuenta de independencia financiera nivel 3</b> es obligatoria y tendrá su propia tabla dentro de la base de datos, estará asociada a la cuenta bancaria de inversión.<br />\n",
    "<br />\n",
    "La <b>cuenta de trading</b> es opcional y tendrá su propia tabla dentro de la base de datos, estará asociada a la cuenta bancaria de inversión.<br />\n",
    "<br />\n",
    "La <b>cuenta de trading variado</b> es opcional y tendrá su propia tabla dentro de la base de datos, estará asociada a la cuenta bancaria de inversión.<br />\n",
    "<br />\n",
    "(Esto se resume a que si sos inversor necesitas abrir 2 cuentas, la cuenta bancaria de inversión y la cuenta N3, luego podes abrir si querer una cuenta de trading o de trading variado)."
   ]
  },
  {
   "attachments": {},
   "cell_type": "markdown",
   "metadata": {
    "slideshow": {
     "slide_type": "slide"
    }
   },
   "source": [
    "## Los egresos:\n",
    "\n",
    "<br />\n",
    "Los <b>egresos</b> tendran su propia tabla dentro de la base de datos, y tendrá incorporada una lógica para categorizar automágicamente los gastos ingresados, lo ideal es que haya una cuenta de gastos asociada a los gastos, pero la tabla gastos va a aceptar registros provenientes de cuentas bancarias o cuentas externas o metálico, también deberá aceptar gastos de la cuenta ahorro y de la cuenta educacion.<br />\n",
    "<br />\n",
    "Tendrá una funcionalidad adicional que será la <b>cuenta presupuesto anual</b> para deuda activa e imprevistos, que partirá de un % de los ingresos anuales y cuya finalidad es la de incurrir en compras que aporten valor o gastos imprevistos que serán 100% financiados a 12 meses. Mes a mes se deberá transferir este impuesto se ejecute o no, y a partir de que se incurre en algún gasto financiado, se cargará los valores para que se descuente mes a mes.\n",
    "El presupuesto de un año se conserva para el año próximo.\n",
    "\n"
   ]
  },
  {
   "attachments": {},
   "cell_type": "markdown",
   "metadata": {
    "slideshow": {
     "slide_type": "slide"
    }
   },
   "source": [
    "Gracias!"
   ]
  }
 ],
 "metadata": {
  "kernelspec": {
   "display_name": "Python 3",
   "language": "python",
   "name": "python3"
  },
  "language_info": {
   "name": "python"
  },
  "orig_nbformat": 4,
  "vscode": {
   "interpreter": {
    "hash": "6b3bdc329c1274540febb2b39e8dda4730d4796f0e962247dc0c52bef4f080f6"
   }
  }
 },
 "nbformat": 4,
 "nbformat_minor": 2
}
