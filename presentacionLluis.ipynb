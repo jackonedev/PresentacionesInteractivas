{
 "cells": [
  {
   "attachments": {},
   "cell_type": "raw",
   "metadata": {},
   "source": [
    "---\n",
    "title: LA MAQUINA FINANCIERA\n",
    "author: jackonedev\n",
    "description: Presentación sobre una APLICACIÓN FINANCIERA\n",
    "output: slides\n",
    "---"
   ]
  },
  {
   "attachments": {},
   "cell_type": "markdown",
   "metadata": {
    "slideshow": {
     "slide_type": "slide"
    }
   },
   "source": [
    "<p style=\"color: white;\">Hola Mundo!</p>"
   ]
  },
  {
   "attachments": {},
   "cell_type": "markdown",
   "metadata": {
    "slideshow": {
     "slide_type": "slide"
    }
   },
   "source": [
    "# ROAD TO GLORY"
   ]
  },
  {
   "attachments": {},
   "cell_type": "markdown",
   "metadata": {
    "slideshow": {
     "slide_type": "slide"
    }
   },
   "source": [
    "# Existe una razón para pensar en grande"
   ]
  },
  {
   "attachments": {},
   "cell_type": "markdown",
   "metadata": {
    "slideshow": {
     "slide_type": "slide"
    }
   },
   "source": [
    "<h3>TEMAS</h3>\n",
    "\n",
    "<h5>1) Introducción al proyecto</h5>\n",
    "<ul>\n",
    "    <li><b>La Máquina Financiera</b></li>\n",
    "    <li><b>Técnologías a implementar</b></li>\n",
    "    <li><b>Presentación personal</b></li>\n",
    "    <li><b>Presentación equipo de trabajo</b></li>\n",
    "</ul>\n",
    "\n",
    "<h5>2) Contextualizando aspectos técnicos</h5>\n",
    "<ul>\n",
    "    <li><b>Historieta WEB and REST API's</b></li>\n",
    "</ul>\n",
    "\n",
    "\n",
    "\n",
    "\n"
   ]
  },
  {
   "attachments": {},
   "cell_type": "markdown",
   "metadata": {
    "slideshow": {
     "slide_type": "subslide"
    }
   },
   "source": [
    "<h5>3) Desarrollo del proyecto</h5>\n",
    "<ul>\n",
    "    <li><b>Componentes de la app</b></li>\n",
    "    <li><b>Las cuentas</b></li>\n",
    "    <li><b>Los movimientos</b></li>\n",
    "    <li><b>La distribución de capital</b></li>\n",
    "    <li><b>La interface</b></li>\n",
    "</ul>\n",
    "\n",
    "<h5>4) Ideas de cierre</h5>\n",
    "<ul>\n",
    "    <li><b>Valor que aporta al corto y al largo plazo</b></li>\n",
    "    <li><b>Potencial de desarrollo de nuevas versiones</b></li>\n",
    "    <li><b>Tu beneficio</b><br />Recursos humanos incubados por tu propia academia, podrás ofrecer más alternativas que aporten valor</li>\n",
    "    <li><b>Beneficio para Zartex y Costo de oportunidad</b><br />Si no me contratas, no podré ponerme a trabajar de inmediato, y voy a tener que dedicar tiempo a exponer toda está información, y la verdad que no quiero hacerlo, me conformaré con crear una app para usuarios con conocimientos técnicos. Pero la realidad es que mis conocimientos en programación los despertaste vos, y mis conocimientos en finanzas los obtuve de vos, gran parte de mi ser fue incuba por vos, y es a tí a quien quiero responder . Si tengo éxito, te podrías ahorrar un montón de dinero.</li>\n",
    "    <li><b>Mi beneficio</b><br />Sería mi primer proyecto de desarrollo de software. Y tomaría un peso ponderante en mi CV. Permitirme seguir soñando en dedicarme toda mi vida a programar.</li>\n",
    "    <li><b>Cuánto cuesta?</b></li>\n",
    "</ul>"
   ]
  },
  {
   "attachments": {},
   "cell_type": "markdown",
   "metadata": {
    "slideshow": {
     "slide_type": "slide"
    }
   },
   "source": [
    "## Introducción al proyecto\n",
    "\n",
    "### La Máquina Financiera\n",
    "\n",
    "La presentación a continuación trata de un proyecto freelance ha desarrollar, que sería gestionado por un programador backend argentino, que es alumno de la academia ZartexPRO, y a su vez, cuenta con el apoyo de un programador frontend colombiano viviendo en España.\n",
    "\n",
    "El proyecto se llama <b>La Máquina Financiera</b>, y es un sistema de gestión de finanzas personales. El prototipo final presentado será una aplicación de escritorio que corra dentro de cualquier navegador web, y podrá correr en todos los sistemas operativos de computadoras comerciales.\n",
    "\n",
    "Antes de adentrarnos en los fundamentos de la Máquina Financiera quiero agregar que este proyecto podría ser un componente fundamental para un proyecto más ambicioso, llámese <b>El Mapa de Riqueza Personal</b>."
   ]
  },
  {
   "attachments": {},
   "cell_type": "markdown",
   "metadata": {
    "slideshow": {
     "slide_type": "subslide"
    }
   },
   "source": [
    "### Tecnologías ha implementar\n",
    "\n",
    "Las tecnologías que se van a utilizar son:\n",
    "<center>\n",
    "    - Python<br />\n",
    "    - Django y Django Rest Framework<br />\n",
    "    - HTML/CSS<br />\n",
    "    - Bootstrap<br />\n",
    "    - Pyscript y Pyodide<br />\n",
    "    - Docker<br />\n",
    "</center>\n",
    "\n",
    "La base de datos será Postgress, o SQLite"
   ]
  },
  {
   "attachments": {},
   "cell_type": "markdown",
   "metadata": {
    "slideshow": {
     "slide_type": "subslide"
    }
   },
   "source": [
    "### Presentación personal:\n",
    "\n",
    "Mi nombre es Agustin Federico Stigliano, tengo 32 años, y soy programador. Vivo en Córdoba Capital, Argentina. En el año 2014 arranqué la carrera de Ingeniería Electromecánica y fue cuando aprendí Python. A mediados del 2020 decidí pausar mis estudios. Y en abril del 2021 decidí darle un nuevo rumbo a mi vida, comencé a abrazar los valores de la espiritualidad, aprendí sobre finanzas y retomé mis conocimientos en programación.\n",
    "\n",
    "A la fecha llevo 2 años aproximadamente, dedicandole la mayor parte de mi tiempo a capacitarme, certificarme, y desarrollar proyectos informáticos, el resto del tiempo lo uso para sostener hábitos de vida saludables y productivos, ya que me aporta mucha felicidad. Me he certificado como Data Scientist en un bootcamp de Digital House, por lo que mi expertice se centra en los modelos de Machine Learning. Aunque desde que finalicé el curso me he centrado en el desarrollo y despliegue de aplicaciones web. También, gracias al ejemplo de mi mentor, me he apoyado en el hábito de la lectura, habiendo leído los siguientes libros: \"Clean Code in Python\" (escrito en inglés) y \"Python para Finanzas Quant\" (8 tomos).\n",
    "\n",
    "Me encanta poder compartir conocimiento, presentar trabajos y captar la atención y el interés de los participantes. Soy una persona extrovertida que valora el trabajo en equipo, y que he gestionado mis propios emprendimientos desde pequeño. Mi desafío actualmente es encontrar un poco de estabilidad económica y sueño con pertenecer a una empresa donde pueda crecer profesionalmente."
   ]
  },
  {
   "attachments": {},
   "cell_type": "markdown",
   "metadata": {
    "slideshow": {
     "slide_type": "subslide"
    }
   },
   "source": [
    "### Presentación del equipo:\n",
    "\n",
    "Hola, soy Alberto Gómez Juan.\n",
    "\n",
    "Soy Desarrollador Web Full Stack. He participado en proyectos individuales y equipos de trabajo usando metodologías ágiles (SCRUM) y utilizado tecnologías como: Git, GitHub, Javascript, Node.js, React - Redux, Svelte, CSS, Bootstrap, HTML, Express, Sequelize, Postman, MySQL, Wordpress, Moodle, Bash, Docker.\n",
    "\n",
    "Como profesional de Tecnologías de la Información he ayudado a empresas y particulares a iniciar una transformación digital para su desarrollo comercial online y optimización de procesos."
   ]
  },
  {
   "attachments": {},
   "cell_type": "markdown",
   "metadata": {
    "slideshow": {
     "slide_type": "slide"
    }
   },
   "source": [
    "# Una historia real"
   ]
  },
  {
   "cell_type": "raw",
   "metadata": {},
   "source": []
  },
  {
   "attachments": {},
   "cell_type": "markdown",
   "metadata": {
    "slideshow": {
     "slide_type": "slide"
    }
   },
   "source": [
    "Quisiera explicarte de un modo muy sencillo, el contexto técnico que necesito que visualices, para comprender la profundidad y el potencial del proyecto, que estamos desarrollando."
   ]
  },
  {
   "attachments": {},
   "cell_type": "markdown",
   "metadata": {
    "slideshow": {
     "slide_type": "slide"
    }
   },
   "source": [
    "<img src=\"https://github.com/AgustinSt1990/others/blob/main/historia%201/a1.png?raw=true\"/>"
   ]
  },
  {
   "attachments": {},
   "cell_type": "markdown",
   "metadata": {
    "slideshow": {
     "slide_type": "slide"
    }
   },
   "source": [
    "<img src=\"https://github.com/AgustinSt1990/others/blob/main/historia%201/a2.png?raw=true\"/>"
   ]
  },
  {
   "cell_type": "markdown",
   "metadata": {
    "slideshow": {
     "slide_type": "slide"
    }
   },
   "source": [
    "<img src=\"https://github.com/AgustinSt1990/others/blob/main/historia%201/a3.png?raw=true\"/>"
   ]
  },
  {
   "attachments": {},
   "cell_type": "markdown",
   "metadata": {
    "slideshow": {
     "slide_type": "slide"
    }
   },
   "source": [
    "<img src=\"https://github.com/AgustinSt1990/others/blob/main/historia%201/a4.png?raw=true\"/>"
   ]
  },
  {
   "cell_type": "markdown",
   "metadata": {
    "slideshow": {
     "slide_type": "slide"
    }
   },
   "source": [
    "<img src=\"https://github.com/AgustinSt1990/others/blob/main/historia%201/a5_1.png?raw=true\"/>"
   ]
  },
  {
   "cell_type": "markdown",
   "metadata": {
    "slideshow": {
     "slide_type": "slide"
    }
   },
   "source": [
    "<img src=\"https://github.com/AgustinSt1990/others/blob/main/historia%201/a5_2.png?raw=true\"/>"
   ]
  },
  {
   "cell_type": "markdown",
   "metadata": {
    "slideshow": {
     "slide_type": "slide"
    }
   },
   "source": [
    "<img src=\"https://github.com/AgustinSt1990/others/blob/main/historia%201/a5_3.png?raw=true\"/>"
   ]
  },
  {
   "cell_type": "markdown",
   "metadata": {
    "slideshow": {
     "slide_type": "slide"
    }
   },
   "source": [
    "<img src=\"https://github.com/AgustinSt1990/others/blob/main/historia%201/a5_4.png?raw=true\"/>"
   ]
  },
  {
   "cell_type": "markdown",
   "metadata": {
    "slideshow": {
     "slide_type": "slide"
    }
   },
   "source": [
    "<img src=\"https://github.com/AgustinSt1990/others/blob/main/historia%201/a5_5.png?raw=true\"/>"
   ]
  },
  {
   "cell_type": "markdown",
   "metadata": {
    "slideshow": {
     "slide_type": "slide"
    }
   },
   "source": [
    "<img src=\"https://github.com/AgustinSt1990/others/blob/main/historia%201/a5_6.png?raw=true\"/>"
   ]
  },
  {
   "attachments": {},
   "cell_type": "markdown",
   "metadata": {
    "slideshow": {
     "slide_type": "subslide"
    }
   },
   "source": [
    "# Fin"
   ]
  },
  {
   "attachments": {},
   "cell_type": "markdown",
   "metadata": {
    "slideshow": {
     "slide_type": "slide"
    }
   },
   "source": [
    "# Liderando una causa noble"
   ]
  },
  {
   "attachments": {},
   "cell_type": "markdown",
   "metadata": {
    "slideshow": {
     "slide_type": "slide"
    }
   },
   "source": [
    "### Componentes de la app\n",
    "\n",
    "La \"Maquina Financiera\", consta de 3 pilares:\n",
    "\n",
    "<center>\n",
    "    - Las cuentas<br />\n",
    "    - Los movimientos<br />\n",
    "    - La distribución de capital<br />\n",
    "</center>\n",
    "\n",
    "La interface se considera como un cuarto componente aunque ésta puede ser reemplazada fácilmente<br />\n"
   ]
  },
  {
   "attachments": {},
   "cell_type": "markdown",
   "metadata": {
    "slideshow": {
     "slide_type": "slide"
    }
   },
   "source": [
    "### Qué vamos a ver?\n",
    "\n",
    "<center>\n",
    "\n",
    "#### Las cuentas, tipos de cuentas\n",
    "\n",
    "#### Estado de las cuentas\n",
    "\n",
    "#### Excepciones\n",
    "\n",
    "#### Tablas propias, generales y de resumen\n",
    "\n",
    "</center>"
   ]
  },
  {
   "attachments": {},
   "cell_type": "markdown",
   "metadata": {
    "slideshow": {
     "slide_type": "slide"
    }
   },
   "source": [
    "### Las cuentas\n",
    "\n",
    "Es el primero de los pilares.\n",
    "\n",
    "Cualquier registro dentro de nuestro estado financiero pertenece a uno de los tres tipos de cuentas existentes, éstas son:\n",
    "\n",
    "- Cuenta bancaria<br />\n",
    "- Cuenta externa<br />\n",
    "- Cuenta metálico<br />\n",
    "\n",
    "Y el usuario va a poder tener cuantas quiera de cada una de éllas."
   ]
  },
  {
   "attachments": {},
   "cell_type": "markdown",
   "metadata": {
    "slideshow": {
     "slide_type": "subslide"
    }
   },
   "source": [
    "Las <b>cuentas bancarias</b> se caracterizan por operar solamente con 1 divisa. A diferencia de las <b>cuentas externas</b> que éstas admiten múltiples divisas.\n",
    "\n",
    "Mientras las cuentas bancarias son estricatamente cuentas bancarias, las cuentas externas pueden tomar muchas formas, como bancos digitales, billeteras cripto frías o calientes, como cuentas de exchanges centralizados o DEX.\n",
    "\n",
    "El tercer tipo de cuenta es la <b>cuenta metálico</b>, y esta representa valores cash o activos físicos o commodities."
   ]
  },
  {
   "attachments": {},
   "cell_type": "markdown",
   "metadata": {
    "slideshow": {
     "slide_type": "subslide"
    }
   },
   "source": [
    "### Estado de las cuentas\n",
    "\n",
    "A su vez existen <b>estados</b> que se vinculan a cada una de las cuentas creadas, éstos son:\n",
    "\n",
    "- INGRESO\n",
    "- AHORRO\n",
    "- EDUCACION\n",
    "- PRESUPUESTO\n",
    "- INVERSION\n",
    "- N3\n",
    "- TRADING\n",
    "- EGRESO\n",
    "\n",
    "Los estados no son excluyentes entre sí, pero si existe ciertas incompatibilidades lógicas cuya finalidad es educar al usuario."
   ]
  },
  {
   "attachments": {},
   "cell_type": "markdown",
   "metadata": {
    "slideshow": {
     "slide_type": "subslide"
    }
   },
   "source": [
    "A continuación enumeramos todos los estados posibles:\n",
    "\n",
    "<br />\n",
    "\n",
    "- INGRESO\n",
    "- AHORRO\n",
    "- EGRESO\n",
    "- INGRESO, EGRESO\n",
    "- AHORRO, EGRESO\n",
    "- AHORRO, EDUCACION, EGRESO\n",
    "- AHORRO, PRESUPUESTO, EGRESO\n",
    "- INVERSION\n",
    "- INVERSION, N3\n",
    "- INVERSION, TRADING"
   ]
  },
  {
   "attachments": {},
   "cell_type": "markdown",
   "metadata": {
    "slideshow": {
     "slide_type": "subslide"
    }
   },
   "source": [
    "### Excepciones\n",
    "\n",
    "Existen ciertas excepciones:\n",
    "\n",
    "<br />\n",
    "\n",
    "La <b>cuenta metálico</b> admite el estado INGRESO, AHORRO, EGRESO, y no admite el estado INVERSION, ni sus derivados.\n",
    "\n",
    "Solo una <b>cuenta bancaria</b> puede tener el estado INVERSION sin derivados.\n",
    "\n",
    "\n",
    "\n"
   ]
  },
  {
   "attachments": {},
   "cell_type": "markdown",
   "metadata": {
    "slideshow": {
     "slide_type": "subslide"
    }
   },
   "source": [
    "### Tablas propias, generales y de resumen\n",
    "\n",
    "Las base de datos contemplara a las cuentas de la siguiente manera:\n",
    "\n",
    "<br />\n",
    "\n",
    "\n",
    "Las <b>cuentas bancarias, externas y metálico</b> tendrán su <b>tabla propia</b> dentro de la base de datos, para que al crearse una cuenta, cada una posea características independientes entre los distintos tipos.\n",
    "\n",
    "La <b>tabla general de cuentas</b> surge de combinar y procesar la información necesaria de las tablas propias de las cuentas en una sola, de fácil lectura.\n",
    "\n",
    "La <b>tabla resumen de cuentas</b> surge de agrupar y procesar la informacón dentro de la tabla general de cuentas."
   ]
  },
  {
   "attachments": {},
   "cell_type": "markdown",
   "metadata": {
    "slideshow": {
     "slide_type": "subslide"
    }
   },
   "source": [
    "A continuación se muestra una <b>tabla general de cuentas</b> de un estado financiero modelo:\n",
    "\n",
    "<img src=\"https://github.com/AgustinSt1990/others/blob/main/MaquinaF_aux/CUENTAS_2.png?raw=true\">\n"
   ]
  },
  {
   "attachments": {},
   "cell_type": "markdown",
   "metadata": {
    "slideshow": {
     "slide_type": "subslide"
    }
   },
   "source": [
    "Mientras que una <b>tabla resumen de cuentas</b> se vería algo así:\n",
    "\n",
    "<center><img src=\"https://github.com/AgustinSt1990/others/blob/main/MaquinaF_aux/CUENTAS_3.png?raw=true\" /></center>"
   ]
  },
  {
   "attachments": {},
   "cell_type": "markdown",
   "metadata": {
    "slideshow": {
     "slide_type": "slide"
    }
   },
   "source": [
    "### Los movimientos\n",
    "Existen 3 tipos de movimientos, <b>los ingresos, los egresos, y las transferencias. </b>\n",
    "\n",
    "Al realizarse un movimiento de ingreso o de egreso, la cuenta en cuestión obtiene dicho estado. En cambio las transferencias no alteran el estado de las cuentas.\n",
    "\n",
    "Todos los movimientos en el que el resultado sea un incremento en la cantidad de dinero, del sistema financiero, son denominados <b>ingresos</b>. Cuando los recursos financieros pasan de una cuenta a otra se denominan <b>transferencias</b>, mientras que consumir dichos recursos genera un <b>egreso</b>.\n",
    "\n",
    "Al igual que las cuentas, los movimientos también tendrán sus <b>tablas propias, tabla general de movimientos, y tabla resumen de movimientos</b>."
   ]
  },
  {
   "attachments": {},
   "cell_type": "markdown",
   "metadata": {
    "slideshow": {
     "slide_type": "slide"
    }
   },
   "source": [
    "### La distribución de capital\n",
    "\n",
    "Posee una parte lógica, y otra parte de almacenamiento de cuentas.<br />\n",
    "\n",
    "<center>\n",
    "\n",
    "#### Las cuentas de distribución de capital\n",
    "\n",
    "#### Las cuentas del inversor\n",
    "\n",
    "#### Lógica y visualización\n",
    "\n",
    "</center>\n"
   ]
  },
  {
   "attachments": {},
   "cell_type": "markdown",
   "metadata": {
    "slideshow": {
     "slide_type": "subslide"
    }
   },
   "source": [
    "### Las cuentas de distribución de capital\n",
    "\n",
    "\n",
    "El estado de cuenta AHORRO puede asociarte a los 3 tipos de cuentas: bancarias, externas y metálico. <b>La cuenta asociada</b> de ese modo pasa a tener el <b>estado AHORRO</b> y pierde el estado INGRESO en caso de tenerlo. El sistema poseera una variable interna que defina el <b>ahorro ideal</b> como un porcentaje de los ingresos mensuales, será definido por el usuario, y podrá actualizarse con el paso del tiempo. El dinero para el ahorro podrá ingresarse de modo que esté distribuido en distintas cuentas y en distintas divisas.\n",
    "\n",
    "La <b>cuenta presupuesto</b> es una cuenta bancaria, externa o metálico, de <b>AHORRO</b>. El usuario puede definir un presupuesto anual en función del pronóstico de ingresos anuales esperados. El presupuesto tendrá el propósito de habilitar al usuario a acceder a financiación para deuda activa o imprevistos, para eso se define una cuenta cuya finalidad es depositar anticipadamente mes a mes, las cuotas para afrontar dicha deuda al momento de tomarse.\n",
    "\n",
    "La <b>cuenta de educación</b> es una cuenta bancaria, externa o metálico, de <b>AHORRO</b>, cuya finalidad es separar dinero, que será consumido en capacitaciones que tengan un impacto directo en el nivel de ingresos del usuario."
   ]
  },
  {
   "attachments": {},
   "cell_type": "markdown",
   "metadata": {
    "slideshow": {
     "slide_type": "subslide"
    }
   },
   "source": [
    "\n",
    "### Las cuentas del inversor\n",
    "\n",
    "La <b>cuenta bancaria de inversión</b> funciona para articular las cuentas del inversor, estará asociada a una única cuenta bancaria.<br />\n",
    "\n",
    "La cuenta de independencia financiera <b>N3</b>, también llamada \"cuenta de la inmortalidad\", es aquella en la que los fondos están destinados a ser invertidos en fondos indexados, fondos de inversión, ETFs. Estará asociada a una única cuenta externa.\n",
    "\n",
    "La <b>cuenta de trading</b> son cuentas que se utilizan para especular de forma activa o semi-pasiva, haciendo trading de forma personal, o depositando en cuentas de copy-trading.\n",
    "<br />"
   ]
  },
  {
   "attachments": {},
   "cell_type": "markdown",
   "metadata": {
    "slideshow": {
     "slide_type": "subslide"
    }
   },
   "source": [
    "### Lógica y visualización\n",
    "\n",
    "La parte <b>lógica</b> va a tener el objetivo de evaluar el estado de las cuentas y  medir las <b>fluctuación</b> entre los movimientos de éllas, intentando poner en evidencia el pronóstico de <b>crecimiento</b> de las cuentas de distribución de capital.\n",
    "\n",
    "Esta área también se ocupa de la parte de <b>visualización</b>, y de las conexiones a servicios web de terceros para integrarlos dentro de la app. También va a contar con módulos de conversión de unidades en tiempo real para expresar las tablas en una sola divisa, a elección.<br />"
   ]
  },
  {
   "attachments": {},
   "cell_type": "markdown",
   "metadata": {
    "slideshow": {
     "slide_type": "subslide"
    }
   },
   "source": [
    "### Ejemplo AHORRO\n",
    "\n",
    "Partiendo de un estado financiero en la tabla general de ahorro que tenga múltiples divisas en múltples cuentas:\n",
    "\n",
    "<center><img src=\"https://github.com/AgustinSt1990/others/blob/main/MaquinaF_aux/AHORROS_1.png?raw=true\" /></center>\n",
    "\n"
   ]
  },
  {
   "attachments": {},
   "cell_type": "markdown",
   "metadata": {
    "slideshow": {
     "slide_type": "subslide"
    }
   },
   "source": [
    "Las visualizaciones serán procesadas previo a ser mostradas, para que estén expresadas en una única divisa, en este caso USD:\n",
    "\n",
    "\n",
    "<center>\n",
    "    <iframe width=\"500\" height=\"400\" frameborder=\"0\" scrolling=\"no\" src=\"//plotly.com/~jackonedev/3.embed\"></iframe>\n",
    "    <iframe width=\"500\" height=\"400\" frameborder=\"0\" scrolling=\"no\" src=\"//plotly.com/~jackonedev/5.embed\"></iframe>\n",
    "</center>"
   ]
  },
  {
   "attachments": {},
   "cell_type": "markdown",
   "metadata": {
    "slideshow": {
     "slide_type": "subslide"
    }
   },
   "source": [
    "Las visualizaciones tendrán funcionalidades dinámicas:\n",
    "<center><iframe width=\"765\" height=\"400\" frameborder=\"0\" scrolling=\"no\" src=\"//plotly.com/~jackonedev/9.embed\"></iframe></center>"
   ]
  },
  {
   "attachments": {},
   "cell_type": "markdown",
   "metadata": {
    "slideshow": {
     "slide_type": "subslide"
    }
   },
   "source": [
    "\n",
    "<center>\n",
    "    <iframe width=\"765\" height=\"400\" frameborder=\"0\" scrolling=\"no\" src=\"//plotly.com/~jackonedev/7.embed\"></iframe>\n",
    "</center>"
   ]
  },
  {
   "attachments": {},
   "cell_type": "markdown",
   "metadata": {
    "slideshow": {
     "slide_type": "slide"
    }
   },
   "source": [
    "### La interface\n",
    "\n",
    "Dos prioridades: \n",
    "\n",
    "- simpleza e intuitivo para un usuario sin registros financieros previos\n",
    "\n",
    "- versatil a la migración, desde otros sistemas a este\n",
    "\n",
    "<br />\n",
    "\n",
    "<i>ACLARACION: Las imágenes que se muestran en la presentacion representan un modelado del prototipo funcional deseado.</i>"
   ]
  },
  {
   "attachments": {},
   "cell_type": "markdown",
   "metadata": {
    "slideshow": {
     "slide_type": "slide"
    }
   },
   "source": [
    "# La estrella que me ha de guiar\n",
    "\n",
    "Ideas de cierre"
   ]
  },
  {
   "attachments": {},
   "cell_type": "markdown",
   "metadata": {
    "slideshow": {
     "slide_type": "slide"
    }
   },
   "source": [
    "\n",
    "Este sistema está pensado para gente común, cuando las finanzas del día a día lo son todo. Automatizar esa tarea que cuesta esfuerzo y no inspira hacer de registrar las cosas, que en escencia es burocrática.\n",
    "\n",
    "Las consecuencias de no tener poseer registros es evidente, no es posible traer claridad por fuera de la memoria.\n",
    "\n",
    "Considero que este prototipo se puede adaptar a un sistema financiero complejo ya en marcha, aunque no aporte valor al corto plazo. \n",
    "\n",
    "\n",
    "\n",
    "\n",
    "\n",
    "\n",
    "\n",
    "\n",
    "\n"
   ]
  },
  {
   "attachments": {},
   "cell_type": "markdown",
   "metadata": {
    "slideshow": {
     "slide_type": "slide"
    }
   },
   "source": [
    "##### Sin claridad, las finanzas son inexistentes. Y una persona sin claridad y sin finanzas está yendo camino al fracaso."
   ]
  },
  {
   "attachments": {},
   "cell_type": "markdown",
   "metadata": {
    "slideshow": {
     "slide_type": "slide"
    }
   },
   "source": [
    "Una pregunta, al largo plazo... ¿Estos primeros usuarios tendrán más ventaja a futuro?. Sí!.\n",
    "\n",
    "La visión para este proyecto es la de tener algoritmos de Machine Learning, que permitan asistir a la toma de decisiones. \n",
    "\n",
    "Cuando se parte de data <b>TAN</b> empirica, como los consumos del día a día, a la larga no necesitas de andar mirando los índices de inflación. \n",
    "\n",
    "Tenés algoritmos que predigan los aumentos <b>POR</b> categoría. \n",
    "\n",
    "No olvidemos que la tasa inflación mide \"el aumento generalizado de los precios\", por lo tanto representa un promedio del aumento de precios.\n",
    "\n",
    "Cuando la inflación se descontrola aparecen fenómenos atípicos (más aún cuando el estado intenta corregir sus propios fallos), y eso hace que algunos productos aumenten muy poco y otro segmento de producto aumente mucho más.\n",
    "\n",
    "Por ejemplo, no el mismo el impacto de la inflación en el café en Colombia que en Argentina, ya que en un país es un producto local y en el otro un producto importado.\n",
    "\n",
    "Por ejemplo para que exista una inflación de un 100% anual se necesita un aumento subsidiado del 30% en vehículos que compense un 150% o más, en alimentos.\n",
    "\n",
    "Está lleno de fenómenos, y apuntamos a que se puedan pronósticar para que la gente común pueda hacer uso estratégico de sus recursos de forma que le permita enriquecerse.\n",
    "\n",
    "## Te paso un par de impresiones de pantalla que considero que te pueden ayudar a ver el problema que quiero solucionar.\n",
    "\n"
   ]
  },
  {
   "cell_type": "markdown",
   "metadata": {
    "slideshow": {
     "slide_type": "subslide"
    }
   },
   "source": [
    "En vistas a futuro, la aplicación de escritorio que corre sobre cualquier navegador web pasara a hacer una aplicación web, y se podrá recolectar datos financieros en una base de datos centralizada y mejorar aún más la predicción de los modelos preservando la confidencialidad de los usuarios."
   ]
  },
  {
   "attachments": {},
   "cell_type": "markdown",
   "metadata": {
    "slideshow": {
     "slide_type": "slide"
    }
   },
   "source": [
    "# Me entusiasma este proyecto porque estudié con el mejor y porque puse el trabajo.\n"
   ]
  },
  {
   "attachments": {},
   "cell_type": "markdown",
   "metadata": {
    "slideshow": {
     "slide_type": "slide"
    }
   },
   "source": [
    "# Hagamos que suceda"
   ]
  }
 ],
 "metadata": {
  "kernelspec": {
   "display_name": "venv",
   "language": "python",
   "name": "python3"
  },
  "language_info": {
   "codemirror_mode": {
    "name": "ipython",
    "version": 3
   },
   "file_extension": ".py",
   "mimetype": "text/x-python",
   "name": "python",
   "nbconvert_exporter": "python",
   "pygments_lexer": "ipython3",
   "version": "3.10.2"
  },
  "orig_nbformat": 4,
  "vscode": {
   "interpreter": {
    "hash": "e3aa0a019792015162aa1c99794ca0df469e0e38f26fbe7c861b57d8762c34af"
   }
  }
 },
 "nbformat": 4,
 "nbformat_minor": 2
}
