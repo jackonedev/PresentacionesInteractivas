{
 "cells": [
  {
   "cell_type": "raw",
   "metadata": {},
   "source": [
    "---\n",
    "title: 03 - LA MAQUINA FINANCIERA\n",
    "author: jackonedev\n",
    "description: Parte 3 - Propuesta para el proyecto\n",
    "output: slides\n",
    "---"
   ]
  },
  {
   "attachments": {},
   "cell_type": "markdown",
   "metadata": {
    "slideshow": {
     "slide_type": "slide"
    }
   },
   "source": [
    "# Puesta en valor"
   ]
  },
  {
   "attachments": {},
   "cell_type": "markdown",
   "metadata": {
    "slideshow": {
     "slide_type": "slide"
    }
   },
   "source": [
    "# La estrella que me ha de guiar"
   ]
  },
  {
   "attachments": {},
   "cell_type": "markdown",
   "metadata": {
    "slideshow": {
     "slide_type": "slide"
    }
   },
   "source": [
    "<h5>3) Puesta en valor</h5>\n",
    "<ul>\n",
    "    <li><b>Ideas de cierre</b></li>\n",
    "    <li><b>Potencial de desarrollo de nuevas versiones</b></li>\n",
    "    <li><b>Tu beneficio</b></li>\n",
    "    <li><b>Costo de oportunidad</b></li>\n",
    "    <li><b>Beneficio para Zartex PRO</b></li>\n",
    "    <li><b>Mi beneficio</b></li>\n",
    "    <li><b>Cuánto cuesta?</b></li>\n",
    "</ul>"
   ]
  },
  {
   "attachments": {},
   "cell_type": "markdown",
   "metadata": {
    "slideshow": {
     "slide_type": "slide"
    }
   },
   "source": [
    "<b><u>Ideas de cierre</u></b>\n",
    "\n",
    "Si haz llegado hasta acá quiero <b>agradecerte mucho por tu tiempo</b>. El significado de esta presentación es <b>aportar valor</b>, la segunda intención es <b>arrancar un proyecto</b>, y la tercera no fue una intención consciente pero terminé <b>aprendiendo</b> más de lo que creía al momento de llegar a estas líneas.\n",
    "\n",
    "El propósito que me mueve es seguir <b>avanzando hacia mi estrella polar</b>, por lo que si tu rechazas este proyecto solo significaría más aprendizaje en mi camino.\n",
    "\n",
    "No he colocado nada de código sobre este proyecto ni sobre otros proyectos, para no aturdir de contenido muy complejo, pero entiendo si tienes dudas respecto a mis habilidades técnicas, yo no las tengo, <b>por favor hazme saber tus dudas</b>.\n",
    "\n",
    "Lo que me ha impulsado a desarrollar este proyecto y esta presentación fue que a mí como a otros alumnos nos ha costado integrar algunas de las herramientas que nos brindas en google sheet, y quise presentarte <b>una alternativa que esté a la altura</b> de los conocimientos que tu nos has enseñado."
   ]
  },
  {
   "attachments": {},
   "cell_type": "markdown",
   "metadata": {
    "slideshow": {
     "slide_type": "slide"
    }
   },
   "source": [
    "<b><u>Potencial de desarrollo de nuevas versiones</u></b>\n",
    "\n",
    "Esta app de escritorio sería la <b>versión Demo</b> y confío que va a brindar mucha productividad en el manejo de las finanzas a cualquier persona que no esté llevando control de sus finanzas actualmente. Es un sistema a lazo abierto. Cualquier usuario podrá obtener respuestas de esta app.\n",
    "\n",
    "La <b>primera versión</b> de esta app debería ser una aplicación WEB. Con enormes beneficios, centralizando los datos de los usuarios es una base de datos, podremos ofrecer nuevos servicios y estar presentes en multiples dispositivos cada una con su propia interface (PC, Android, iOS).\n",
    "\n",
    "Llegado al punto en el que se obtengan una cantidad significativa de datos podremos desarrollar <b>modelos de Machine Learning</b> que soporten generar inferencias sobre la tasa de inflación por categoría de producto, o por región geográfica, etc. Y se podrán ofrecer estas herramientas predictivas a los usuarios. "
   ]
  },
  {
   "attachments": {},
   "cell_type": "markdown",
   "metadata": {
    "slideshow": {
     "slide_type": "slide"
    }
   },
   "source": [
    "<b><u>Tu beneficio</u></b>\n",
    "\n",
    "Considero que la propuesta tiene 3 grandes beneficios:\n",
    "\n",
    "- <b>Inversión anticipada</b>: Es una inversión de bajo riesgo. Si tuviera la receta exacta de como hacer esto cobraría al menos x10 de lo que pido, si tengo éxito obtendrás un código muy valorable a muy bajo costo.\n",
    "\n",
    "- <b>Incubar recursos humanos</b>: Si logras aglutinar talento por medio de tu academia, conseguirás un recurso adicional para negociar en una mesa directiva. \n",
    "\n",
    "- <b>Nuevas formas de comunicar</b>: Menciono por primera vez la presentación por slideshow que se está presentando, si te gusta, y te sirve, me ofrezco a colaborar contigo en el armado de presentaciones. Considero que los gráficos interactivos aportan a la exposición, además, puede haber una presentación para proyector, y otra presentación para audencia, siendo esta última un slideshow para que vean desde el teléfono."
   ]
  },
  {
   "attachments": {},
   "cell_type": "markdown",
   "metadata": {
    "slideshow": {
     "slide_type": "slide"
    }
   },
   "source": [
    "<b><u>Costo de oportunidad</u></b>\n",
    "\n",
    "Aportar valor, ¿a quién?, ¿cómo?. \n",
    "\n",
    "Si no te convence la propuesta para que me ponga a trabajar de inmediato en investigar, estudiar, experimentar, desarrollar, repasar, crear, testear, ... tendré que buscar aportar valor a alguien más, y de otra manera.\n",
    "\n",
    "Probablemente me vea obligado a capitalizar esta presentación en forma de exposición (sacando todos los logos de Zartex, y no mencionandoló!, por privacidad). Primero adaptar el contenido para un público más general, segundo publicarlo en mi currículum, para luego entregar a razón de 30 curriculums diarios durante días.\n",
    "\n",
    "No me siento cómodo con la idea de divulgar información que considero tan valiosa. Pero no descarto la alternativa de que tu intención sea que este tipo de información se divulgue."
   ]
  },
  {
   "attachments": {},
   "cell_type": "markdown",
   "metadata": {
    "slideshow": {
     "slide_type": "slide"
    }
   },
   "source": [
    "<b><u>Beneficio para ZartexPRO</u></b>\n",
    "\n",
    "Considero que he sido un mal alumno en ZartexPRO, pero que podría pasar a convertirme en un caso de éxito en ZartexTransición. \n",
    "\n",
    "Primero, tenía dos líneas de teléfono, ahora una sola. Segundo, trabajo en la computadora de pie. \n",
    "\n",
    "Lograr este sueño me acercaría a mis valores de trader, y podría retomar mis estudios en eso y seguir avanzando en mi carrera profesional."
   ]
  },
  {
   "attachments": {},
   "cell_type": "markdown",
   "metadata": {
    "slideshow": {
     "slide_type": "slide"
    }
   },
   "source": [
    "<b><u>Mi beneficio</u></b>\n",
    "\n",
    "<ul>\n",
    "    <li>- <b>Beneficio financiero</b>: sería mi primer proyecto freelance remunerado</li>\n",
    "    <li>- <b>Beneficio espiritual</b>: Acercarme a tí, y alejarme del resto promediaría desproporcionadamente el ingreso medio de las personas que me rodean. Podría llegar a ser lo mejor que me pase en la vida.</li>\n",
    "    <li>- <b>Beneficio vocacional</b>: Enorme impacto en mi CV si pongo un proyecto freelance propio</li>\n",
    "    <li>- <b>Beneficio vocacional</b>: Desarrollo de WebApps + Finanzas + Machine Learning = AMOR</li>\n",
    "</ul>"
   ]
  },
  {
   "attachments": {},
   "cell_type": "markdown",
   "metadata": {
    "slideshow": {
     "slide_type": "slide"
    }
   },
   "source": [
    "<b><u>Cuanto cuesta?</u></b>\n",
    "\n",
    "Espero que comprendas que todo poder conlleva una responsabilidad, y eso es mucha presión para mí.\n",
    "\n",
    "Puedo hacerme cargo de todo el proyecto, a grandes razgos es necesario ocuparse de:\n",
    "\n",
    "<ol>\n",
    "    <li>diseño de modelos Django asociados a la tablas</li>\n",
    "    <li>diseño de las views API REST con las funcionalidades en los endpoints</li>\n",
    "    <li>desarrollo de módulos encapsulados para integrar servicios web de terceros (Python package)</li>\n",
    "    <li>desarrollo módulos encapsulados para procesar las visualizaciones (Python package)</li>\n",
    "    <li>desarrollar un cliente para testear los modelos Django</li>\n",
    "    <li>documentar la respuesta de los endpoints</li>\n",
    "    <li>desarrollar el frontend</li>\n",
    "    <li>controlar aserciones</li>\n",
    "    <li>desarrollar contenedor Docker</li>\n",
    "    <li>probar prototito funcional</li>\n",
    "</ol>"
   ]
  },
  {
   "attachments": {},
   "cell_type": "markdown",
   "metadata": {
    "slideshow": {
     "slide_type": "slide"
    }
   },
   "source": [
    "Entonces, tuve el afán de desarrollar el proyecto completo pero <b>mi consejo</b> es que consideres financiar una parte del proyecto, por que:\n",
    "\n",
    "<ul>\n",
    "    <li>No es trabajo para uno solo. </li>\n",
    "    <li>El prototipo que pretendo desarrollar no será escalable a aplicaciones web, por cuestiones de <b>autenticar los requests</b> (que el backend sepa qué usuario está logeado) y cuestiones de <b>preservar la seguridad</b> de los datos de los usuarios (se necesita tener funciones criptográficas para que la información pueda ser procesada solo por el backend). </li>\n",
    "    <li>La productividad de este proyecto se centra en construir el esquelo de la app en un <b>plazo razonable</b>. El frontend puede tardar el doble de tiempo (para mí) en desarrollarse.</li>\n",
    "</ul>\n"
   ]
  },
  {
   "attachments": {},
   "cell_type": "markdown",
   "metadata": {
    "slideshow": {
     "slide_type": "slide"
    }
   },
   "source": [
    "Considero una <b>decisión estratégica</b> ocuparse en esta primera etapa solo de estas cuestiones:\n",
    "\n",
    "<ol>\n",
    "    <li>Crear modelos Django que son las tablas de la base de datos y sus relaciones</li>\n",
    "    <li>Crear las views con Rest Framework, que son el sistema que recibe request y devuelve response</li>\n",
    "    <li>Crear urls para darle una ruta de acceso a las API REST</li>\n",
    "    <li>Adaptar paquete ya creado para integrar servicios WEB de terceros dentro de la app</li>\n",
    "    <li>Adaptar paquete ya creado para poseer módulos de visualización dentro de la app</li>\n",
    "    <li>Adaptar paquete ya creado para poseer módulos para importar y exportar data en formato .csv (bajo protocolo HTTP)</li>\n",
    "    <li>Crear paquete con módulos para importar y exportar data en formato .xlmx</li>\n",
    "    <li>Crear un cliente integrando Django dentro de Jupyter para enviar request's</li>\n",
    "    <li>Comprimir todo en contenedor Docker para enlatar el soft</li>\n",
    "</ol>\n",
    "\n",
    "El cliente hecho por Jupyter posee una interface genérica."
   ]
  },
  {
   "attachments": {},
   "cell_type": "markdown",
   "metadata": {
    "slideshow": {
     "slide_type": "slide"
    }
   },
   "source": [
    "<b><u>Cuánto cuesta?</u></b>\n",
    "\n",
    "El plazo de entrega de lo recién mencionado es de <b>40 días</b> (máximo 50), el costo de ejecución es de <b>887,77 USD</b>.\n",
    "\n",
    "Serían dos pagos, 36% por adelantado, y 64% al momento de la presentación.\n",
    "\n",
    "El pago sería a través de stablecoin en cripto.\n",
    "\n",
    "El anticipo se utilizará en dos cosas, invertir en mi productividad (gym, nutrición), y sostener el costo de vida durante la ejecución del proyecto.\n",
    "\n",
    "El monto restante será utilizado para probar con dinero real el algoritmo. \n",
    "\n",
    "<br />\n",
    "Quedo atento a cualquier inquietud.\n",
    "\n",
    "Saludo atentamente.\n",
    "\n",
    "Agustín"
   ]
  },
  {
   "attachments": {},
   "cell_type": "markdown",
   "metadata": {
    "slideshow": {
     "slide_type": "slide"
    }
   },
   "source": [
    "Quiero agradecer a mi mentor que me enseño como es que los sueños parten del corazón. Por haber hecho por mí tanto, como he visto que ha hecho sobre otros, que nos ha enseñado la gratitud que genera valorar las cosas correctas de la vida.\n",
    "\n",
    "<center>Gracias, tante grazie!</center>"
   ]
  },
  {
   "attachments": {},
   "cell_type": "markdown",
   "metadata": {
    "slideshow": {
     "slide_type": "slide"
    }
   },
   "source": [
    "# Hagamos que suceda"
   ]
  }
 ],
 "metadata": {
  "kernelspec": {
   "display_name": "venv",
   "language": "python",
   "name": "python3"
  },
  "language_info": {
   "codemirror_mode": {
    "name": "ipython",
    "version": 3
   },
   "file_extension": ".py",
   "mimetype": "text/x-python",
   "name": "python",
   "nbconvert_exporter": "python",
   "pygments_lexer": "ipython3",
   "version": "3.10.2 (tags/v3.10.2:a58ebcc, Jan 17 2022, 14:12:15) [MSC v.1929 64 bit (AMD64)]"
  },
  "orig_nbformat": 4,
  "vscode": {
   "interpreter": {
    "hash": "e3aa0a019792015162aa1c99794ca0df469e0e38f26fbe7c861b57d8762c34af"
   }
  }
 },
 "nbformat": 4,
 "nbformat_minor": 2
}
